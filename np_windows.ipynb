{
 "cells": [
  {
   "cell_type": "code",
   "execution_count": 1,
   "metadata": {},
   "outputs": [],
   "source": [
    "# import tensorflow.compat.v1 as tf\n",
    "# from tensorflow.compat.v1 import keras\n",
    "from os import listdir\n",
    "import matplotlib.pyplot as plt\n",
    "from matplotlib.pyplot import imread, imsave, imshow\n",
    "import numpy as np\n",
    "import pandas as pd\n",
    "import math\n",
    "from scipy.signal import convolve2d\n",
    "import scipy.signal as ss\n",
    "from scipy import ndimage\n",
    "from skimage import img_as_ubyte, img_as_float\n",
    "from skimage.transform import resize\n",
    "# from keras.preprocessing.image import ImageDataGenerator\n",
    "from sklearn.model_selection import train_test_split\n",
    "# from keras import Sequential\n",
    "# from keras import layers\n",
    "import time\n",
    "import copy\n",
    "from skimage.color import rgb2gray\n",
    "from sklearn.metrics import mean_squared_error as MSE\n",
    "import gc\n",
    "import os.path\n",
    "import sys\n",
    "gc.enable()\n",
    "\n",
    "# from predict import main\n",
    "# tf.keras.backend.clear_session()  # For easy reset of notebook state.\n",
    "# sess = tf.Session() \n",
    "# keras.backend.set_session(sess)\n",
    "\n",
    "\n",
    "def make_ker(ker_len, ker_angle):\n",
    "#     h = ker_len * 2\n",
    "    h = ker_len\n",
    "    ker_len_ = ker_len // 2\n",
    "    if ker_angle == 0:\n",
    "        ker = np.zeros((h, h), dtype='float')\n",
    "        ker[ker_len_] = 1\n",
    "    elif ker_angle == 90 or ker_angle == 180:\n",
    "        ker = make_ker(ker_len, 0)\n",
    "        ker = ndimage.rotate(ker, ker_angle)\n",
    "    else:\n",
    "        L = 101\n",
    "        H = L // 2\n",
    "        multiplicator = H/ker_len_\n",
    "        ker = np.zeros((L, L), dtype='float')\n",
    "        #print(int(math.floor(H - multiplicator/ 2)), int(math.ceil(H + multiplicator/ 2)))\n",
    "        ker[int(math.floor(H - multiplicator/ 2)) : int(math.ceil(H + multiplicator/ 2))] = 1\n",
    "        rotated_img = ndimage.rotate(ker, ker_angle)\n",
    "        sigma = 0.3 * np.sqrt(multiplicator**2 - 1)\n",
    "        blurred = ndimage.gaussian_filter(rotated_img, sigma)\n",
    "        ker = ndimage.interpolation.zoom(blurred, 1/multiplicator)\n",
    "    ker /= ker.sum()\n",
    "    return ker"
   ]
  },
  {
   "cell_type": "code",
   "execution_count": 2,
   "metadata": {},
   "outputs": [
    {
     "output_type": "execute_result",
     "data": {
      "text/plain": [
       "<matplotlib.image.AxesImage at 0x266c650ea88>"
      ]
     },
     "metadata": {},
     "execution_count": 2
    },
    {
     "output_type": "display_data",
     "data": {
      "text/plain": "<Figure size 432x288 with 1 Axes>",
      "image/svg+xml": "<?xml version=\"1.0\" encoding=\"utf-8\" standalone=\"no\"?>\r\n<!DOCTYPE svg PUBLIC \"-//W3C//DTD SVG 1.1//EN\"\r\n  \"http://www.w3.org/Graphics/SVG/1.1/DTD/svg11.dtd\">\r\n<!-- Created with matplotlib (https://matplotlib.org/) -->\r\n<svg height=\"248.518125pt\" version=\"1.1\" viewBox=\"0 0 251.565 248.518125\" width=\"251.565pt\" xmlns=\"http://www.w3.org/2000/svg\" xmlns:xlink=\"http://www.w3.org/1999/xlink\">\r\n <metadata>\r\n  <rdf:RDF xmlns:cc=\"http://creativecommons.org/ns#\" xmlns:dc=\"http://purl.org/dc/elements/1.1/\" xmlns:rdf=\"http://www.w3.org/1999/02/22-rdf-syntax-ns#\">\r\n   <cc:Work>\r\n    <dc:type rdf:resource=\"http://purl.org/dc/dcmitype/StillImage\"/>\r\n    <dc:date>2021-05-25T20:53:37.590717</dc:date>\r\n    <dc:format>image/svg+xml</dc:format>\r\n    <dc:creator>\r\n     <cc:Agent>\r\n      <dc:title>Matplotlib v3.3.4, https://matplotlib.org/</dc:title>\r\n     </cc:Agent>\r\n    </dc:creator>\r\n   </cc:Work>\r\n  </rdf:RDF>\r\n </metadata>\r\n <defs>\r\n  <style type=\"text/css\">*{stroke-linecap:butt;stroke-linejoin:round;}</style>\r\n </defs>\r\n <g id=\"figure_1\">\r\n  <g id=\"patch_1\">\r\n   <path d=\"M 0 248.518125 \r\nL 251.565 248.518125 \r\nL 251.565 0 \r\nL 0 0 \r\nz\r\n\" style=\"fill:none;\"/>\r\n  </g>\r\n  <g id=\"axes_1\">\r\n   <g id=\"patch_2\">\r\n    <path d=\"M 26.925 224.64 \r\nL 244.365 224.64 \r\nL 244.365 7.2 \r\nL 26.925 7.2 \r\nz\r\n\" style=\"fill:#ffffff;\"/>\r\n   </g>\r\n   <g clip-path=\"url(#pc23169da49)\">\r\n    <image height=\"218\" id=\"image907195456b\" transform=\"scale(1 -1)translate(0 -218)\" width=\"218\" x=\"26.925\" xlink:href=\"data:image/png;base64,\r\niVBORw0KGgoAAAANSUhEUgAAANoAAADaCAYAAADAHVzbAAADOElEQVR4nO3dsU1jURRF0WdEB+Qug4AGXIHdA81QABGBQyQ6cAtUQOrMIiIi8JQwyZ09GmatAo6cbN/o6W/WWtcF/FE3f/sHwP9AaBAQGgSEBgGhQUBoEBAaBIQGAaFBQGgQEBoEhAYBoUFAaBAQGgSEBgGhQUBoEBAaBIQGAaFBQGgQEBoEhAYBoUFAaBAQGgSEBgGhQUBoEBAaBIQGAaFBQGgQEBoEhAYBoUFAaBAQGgSEBgGhQUBoEBAaBIQGAaFBQGgQEBoEhAYBoUFAaBAQGgSEBgGhQUBoEBAaBIQGAaFBQGgQEBoEhAYBoUFAaBAQGgSEBgGhQUBoEBAaBIQGAaFBQGgQEBoEhAaB26mh7XY7snN/fz+yczqdRnbWWuvz83Nk53q9juzw73HRICA0CAgNAkKDgNAgIDQICA0CQoOA0CAgNAgIDQJCg4DQICA0CAgNAkKDgNAgMPbCerPZjOwcDoeRnePxOLKz1lrf398jO29vbyM7z8/PIzvv7+8jO19fXyM7P5mLBgGhQUBoEBAaBIQGAaFBQGgQEBoEhAYBoUFAaBAQGgSEBgGhQUBoEBAaBIQGgc1a60d+WPnmZu4/5O7ubmRnt9uN7Dw+Po7sPDw8jOycz+eRnZeXl5GdtdZ6enoa2blcLiM7LhoEhAYBoUFAaBAQGgSEBgGhQUBoEBAaBIQGAaFBQGgQEBoEhAYBoUFAaBAQGgR+7Atrfu/2duYT5tvtdmRnv9+P7Ky11uvr68jOx8fHyI6LBgGhQUBoEBAaBIQGAaFBQGgQEBoEhAYBoUFAaBAQGgSEBgGhQUBoEBAaBIQGAS+sIeCiQUBoEBAaBIQGAaFBQGgQEBoEhAYBoUFAaBAQGgSEBgGhQUBoEBAaBIQGAaFBQGgQEBoEhAYBoUFAaBAQGgSEBgGhQUBoEBAaBIQGAaFBQGgQEBoEhAYBoUFAaBAQGgSEBgGhQUBoEBAaBIQGAaFBQGgQEBoEhAYBoUFAaBAQGgSEBgGhQUBoEBAaBIQGAaFBQGgQEBoEhAYBoUFAaBAQGgSEBgGhQUBoEBAaBIQGAaFBQGgQEBoEhAYBoUFAaBAQGgSEBoFfrcMvuu6yBWEAAAAASUVORK5CYII=\" y=\"-6.64\"/>\r\n   </g>\r\n   <g id=\"matplotlib.axis_1\">\r\n    <g id=\"xtick_1\">\r\n     <g id=\"line2d_1\">\r\n      <defs>\r\n       <path d=\"M 0 0 \r\nL 0 3.5 \r\n\" id=\"mac67ae8d7d\" style=\"stroke:#000000;stroke-width:0.8;\"/>\r\n      </defs>\r\n      <g>\r\n       <use style=\"stroke:#000000;stroke-width:0.8;\" x=\"35.985\" xlink:href=\"#mac67ae8d7d\" y=\"224.64\"/>\r\n      </g>\r\n     </g>\r\n     <g id=\"text_1\">\r\n      <!-- 0 -->\r\n      <g transform=\"translate(32.80375 239.238437)scale(0.1 -0.1)\">\r\n       <defs>\r\n        <path d=\"M 31.78125 66.40625 \r\nQ 24.171875 66.40625 20.328125 58.90625 \r\nQ 16.5 51.421875 16.5 36.375 \r\nQ 16.5 21.390625 20.328125 13.890625 \r\nQ 24.171875 6.390625 31.78125 6.390625 \r\nQ 39.453125 6.390625 43.28125 13.890625 \r\nQ 47.125 21.390625 47.125 36.375 \r\nQ 47.125 51.421875 43.28125 58.90625 \r\nQ 39.453125 66.40625 31.78125 66.40625 \r\nz\r\nM 31.78125 74.21875 \r\nQ 44.046875 74.21875 50.515625 64.515625 \r\nQ 56.984375 54.828125 56.984375 36.375 \r\nQ 56.984375 17.96875 50.515625 8.265625 \r\nQ 44.046875 -1.421875 31.78125 -1.421875 \r\nQ 19.53125 -1.421875 13.0625 8.265625 \r\nQ 6.59375 17.96875 6.59375 36.375 \r\nQ 6.59375 54.828125 13.0625 64.515625 \r\nQ 19.53125 74.21875 31.78125 74.21875 \r\nz\r\n\" id=\"DejaVuSans-48\"/>\r\n       </defs>\r\n       <use xlink:href=\"#DejaVuSans-48\"/>\r\n      </g>\r\n     </g>\r\n    </g>\r\n    <g id=\"xtick_2\">\r\n     <g id=\"line2d_2\">\r\n      <g>\r\n       <use style=\"stroke:#000000;stroke-width:0.8;\" x=\"72.225\" xlink:href=\"#mac67ae8d7d\" y=\"224.64\"/>\r\n      </g>\r\n     </g>\r\n     <g id=\"text_2\">\r\n      <!-- 2 -->\r\n      <g transform=\"translate(69.04375 239.238437)scale(0.1 -0.1)\">\r\n       <defs>\r\n        <path d=\"M 19.1875 8.296875 \r\nL 53.609375 8.296875 \r\nL 53.609375 0 \r\nL 7.328125 0 \r\nL 7.328125 8.296875 \r\nQ 12.9375 14.109375 22.625 23.890625 \r\nQ 32.328125 33.6875 34.8125 36.53125 \r\nQ 39.546875 41.84375 41.421875 45.53125 \r\nQ 43.3125 49.21875 43.3125 52.78125 \r\nQ 43.3125 58.59375 39.234375 62.25 \r\nQ 35.15625 65.921875 28.609375 65.921875 \r\nQ 23.96875 65.921875 18.8125 64.3125 \r\nQ 13.671875 62.703125 7.8125 59.421875 \r\nL 7.8125 69.390625 \r\nQ 13.765625 71.78125 18.9375 73 \r\nQ 24.125 74.21875 28.421875 74.21875 \r\nQ 39.75 74.21875 46.484375 68.546875 \r\nQ 53.21875 62.890625 53.21875 53.421875 \r\nQ 53.21875 48.921875 51.53125 44.890625 \r\nQ 49.859375 40.875 45.40625 35.40625 \r\nQ 44.1875 33.984375 37.640625 27.21875 \r\nQ 31.109375 20.453125 19.1875 8.296875 \r\nz\r\n\" id=\"DejaVuSans-50\"/>\r\n       </defs>\r\n       <use xlink:href=\"#DejaVuSans-50\"/>\r\n      </g>\r\n     </g>\r\n    </g>\r\n    <g id=\"xtick_3\">\r\n     <g id=\"line2d_3\">\r\n      <g>\r\n       <use style=\"stroke:#000000;stroke-width:0.8;\" x=\"108.465\" xlink:href=\"#mac67ae8d7d\" y=\"224.64\"/>\r\n      </g>\r\n     </g>\r\n     <g id=\"text_3\">\r\n      <!-- 4 -->\r\n      <g transform=\"translate(105.28375 239.238437)scale(0.1 -0.1)\">\r\n       <defs>\r\n        <path d=\"M 37.796875 64.3125 \r\nL 12.890625 25.390625 \r\nL 37.796875 25.390625 \r\nz\r\nM 35.203125 72.90625 \r\nL 47.609375 72.90625 \r\nL 47.609375 25.390625 \r\nL 58.015625 25.390625 \r\nL 58.015625 17.1875 \r\nL 47.609375 17.1875 \r\nL 47.609375 0 \r\nL 37.796875 0 \r\nL 37.796875 17.1875 \r\nL 4.890625 17.1875 \r\nL 4.890625 26.703125 \r\nz\r\n\" id=\"DejaVuSans-52\"/>\r\n       </defs>\r\n       <use xlink:href=\"#DejaVuSans-52\"/>\r\n      </g>\r\n     </g>\r\n    </g>\r\n    <g id=\"xtick_4\">\r\n     <g id=\"line2d_4\">\r\n      <g>\r\n       <use style=\"stroke:#000000;stroke-width:0.8;\" x=\"144.705\" xlink:href=\"#mac67ae8d7d\" y=\"224.64\"/>\r\n      </g>\r\n     </g>\r\n     <g id=\"text_4\">\r\n      <!-- 6 -->\r\n      <g transform=\"translate(141.52375 239.238437)scale(0.1 -0.1)\">\r\n       <defs>\r\n        <path d=\"M 33.015625 40.375 \r\nQ 26.375 40.375 22.484375 35.828125 \r\nQ 18.609375 31.296875 18.609375 23.390625 \r\nQ 18.609375 15.53125 22.484375 10.953125 \r\nQ 26.375 6.390625 33.015625 6.390625 \r\nQ 39.65625 6.390625 43.53125 10.953125 \r\nQ 47.40625 15.53125 47.40625 23.390625 \r\nQ 47.40625 31.296875 43.53125 35.828125 \r\nQ 39.65625 40.375 33.015625 40.375 \r\nz\r\nM 52.59375 71.296875 \r\nL 52.59375 62.3125 \r\nQ 48.875 64.0625 45.09375 64.984375 \r\nQ 41.3125 65.921875 37.59375 65.921875 \r\nQ 27.828125 65.921875 22.671875 59.328125 \r\nQ 17.53125 52.734375 16.796875 39.40625 \r\nQ 19.671875 43.65625 24.015625 45.921875 \r\nQ 28.375 48.1875 33.59375 48.1875 \r\nQ 44.578125 48.1875 50.953125 41.515625 \r\nQ 57.328125 34.859375 57.328125 23.390625 \r\nQ 57.328125 12.15625 50.6875 5.359375 \r\nQ 44.046875 -1.421875 33.015625 -1.421875 \r\nQ 20.359375 -1.421875 13.671875 8.265625 \r\nQ 6.984375 17.96875 6.984375 36.375 \r\nQ 6.984375 53.65625 15.1875 63.9375 \r\nQ 23.390625 74.21875 37.203125 74.21875 \r\nQ 40.921875 74.21875 44.703125 73.484375 \r\nQ 48.484375 72.75 52.59375 71.296875 \r\nz\r\n\" id=\"DejaVuSans-54\"/>\r\n       </defs>\r\n       <use xlink:href=\"#DejaVuSans-54\"/>\r\n      </g>\r\n     </g>\r\n    </g>\r\n    <g id=\"xtick_5\">\r\n     <g id=\"line2d_5\">\r\n      <g>\r\n       <use style=\"stroke:#000000;stroke-width:0.8;\" x=\"180.945\" xlink:href=\"#mac67ae8d7d\" y=\"224.64\"/>\r\n      </g>\r\n     </g>\r\n     <g id=\"text_5\">\r\n      <!-- 8 -->\r\n      <g transform=\"translate(177.76375 239.238437)scale(0.1 -0.1)\">\r\n       <defs>\r\n        <path d=\"M 31.78125 34.625 \r\nQ 24.75 34.625 20.71875 30.859375 \r\nQ 16.703125 27.09375 16.703125 20.515625 \r\nQ 16.703125 13.921875 20.71875 10.15625 \r\nQ 24.75 6.390625 31.78125 6.390625 \r\nQ 38.8125 6.390625 42.859375 10.171875 \r\nQ 46.921875 13.96875 46.921875 20.515625 \r\nQ 46.921875 27.09375 42.890625 30.859375 \r\nQ 38.875 34.625 31.78125 34.625 \r\nz\r\nM 21.921875 38.8125 \r\nQ 15.578125 40.375 12.03125 44.71875 \r\nQ 8.5 49.078125 8.5 55.328125 \r\nQ 8.5 64.0625 14.71875 69.140625 \r\nQ 20.953125 74.21875 31.78125 74.21875 \r\nQ 42.671875 74.21875 48.875 69.140625 \r\nQ 55.078125 64.0625 55.078125 55.328125 \r\nQ 55.078125 49.078125 51.53125 44.71875 \r\nQ 48 40.375 41.703125 38.8125 \r\nQ 48.828125 37.15625 52.796875 32.3125 \r\nQ 56.78125 27.484375 56.78125 20.515625 \r\nQ 56.78125 9.90625 50.3125 4.234375 \r\nQ 43.84375 -1.421875 31.78125 -1.421875 \r\nQ 19.734375 -1.421875 13.25 4.234375 \r\nQ 6.78125 9.90625 6.78125 20.515625 \r\nQ 6.78125 27.484375 10.78125 32.3125 \r\nQ 14.796875 37.15625 21.921875 38.8125 \r\nz\r\nM 18.3125 54.390625 \r\nQ 18.3125 48.734375 21.84375 45.5625 \r\nQ 25.390625 42.390625 31.78125 42.390625 \r\nQ 38.140625 42.390625 41.71875 45.5625 \r\nQ 45.3125 48.734375 45.3125 54.390625 \r\nQ 45.3125 60.0625 41.71875 63.234375 \r\nQ 38.140625 66.40625 31.78125 66.40625 \r\nQ 25.390625 66.40625 21.84375 63.234375 \r\nQ 18.3125 60.0625 18.3125 54.390625 \r\nz\r\n\" id=\"DejaVuSans-56\"/>\r\n       </defs>\r\n       <use xlink:href=\"#DejaVuSans-56\"/>\r\n      </g>\r\n     </g>\r\n    </g>\r\n    <g id=\"xtick_6\">\r\n     <g id=\"line2d_6\">\r\n      <g>\r\n       <use style=\"stroke:#000000;stroke-width:0.8;\" x=\"217.185\" xlink:href=\"#mac67ae8d7d\" y=\"224.64\"/>\r\n      </g>\r\n     </g>\r\n     <g id=\"text_6\">\r\n      <!-- 10 -->\r\n      <g transform=\"translate(210.8225 239.238437)scale(0.1 -0.1)\">\r\n       <defs>\r\n        <path d=\"M 12.40625 8.296875 \r\nL 28.515625 8.296875 \r\nL 28.515625 63.921875 \r\nL 10.984375 60.40625 \r\nL 10.984375 69.390625 \r\nL 28.421875 72.90625 \r\nL 38.28125 72.90625 \r\nL 38.28125 8.296875 \r\nL 54.390625 8.296875 \r\nL 54.390625 0 \r\nL 12.40625 0 \r\nz\r\n\" id=\"DejaVuSans-49\"/>\r\n       </defs>\r\n       <use xlink:href=\"#DejaVuSans-49\"/>\r\n       <use x=\"63.623047\" xlink:href=\"#DejaVuSans-48\"/>\r\n      </g>\r\n     </g>\r\n    </g>\r\n   </g>\r\n   <g id=\"matplotlib.axis_2\">\r\n    <g id=\"ytick_1\">\r\n     <g id=\"line2d_7\">\r\n      <defs>\r\n       <path d=\"M 0 0 \r\nL -3.5 0 \r\n\" id=\"m7bbd8eb423\" style=\"stroke:#000000;stroke-width:0.8;\"/>\r\n      </defs>\r\n      <g>\r\n       <use style=\"stroke:#000000;stroke-width:0.8;\" x=\"26.925\" xlink:href=\"#m7bbd8eb423\" y=\"16.26\"/>\r\n      </g>\r\n     </g>\r\n     <g id=\"text_7\">\r\n      <!-- 0 -->\r\n      <g transform=\"translate(13.5625 20.059219)scale(0.1 -0.1)\">\r\n       <use xlink:href=\"#DejaVuSans-48\"/>\r\n      </g>\r\n     </g>\r\n    </g>\r\n    <g id=\"ytick_2\">\r\n     <g id=\"line2d_8\">\r\n      <g>\r\n       <use style=\"stroke:#000000;stroke-width:0.8;\" x=\"26.925\" xlink:href=\"#m7bbd8eb423\" y=\"52.5\"/>\r\n      </g>\r\n     </g>\r\n     <g id=\"text_8\">\r\n      <!-- 2 -->\r\n      <g transform=\"translate(13.5625 56.299219)scale(0.1 -0.1)\">\r\n       <use xlink:href=\"#DejaVuSans-50\"/>\r\n      </g>\r\n     </g>\r\n    </g>\r\n    <g id=\"ytick_3\">\r\n     <g id=\"line2d_9\">\r\n      <g>\r\n       <use style=\"stroke:#000000;stroke-width:0.8;\" x=\"26.925\" xlink:href=\"#m7bbd8eb423\" y=\"88.74\"/>\r\n      </g>\r\n     </g>\r\n     <g id=\"text_9\">\r\n      <!-- 4 -->\r\n      <g transform=\"translate(13.5625 92.539219)scale(0.1 -0.1)\">\r\n       <use xlink:href=\"#DejaVuSans-52\"/>\r\n      </g>\r\n     </g>\r\n    </g>\r\n    <g id=\"ytick_4\">\r\n     <g id=\"line2d_10\">\r\n      <g>\r\n       <use style=\"stroke:#000000;stroke-width:0.8;\" x=\"26.925\" xlink:href=\"#m7bbd8eb423\" y=\"124.98\"/>\r\n      </g>\r\n     </g>\r\n     <g id=\"text_10\">\r\n      <!-- 6 -->\r\n      <g transform=\"translate(13.5625 128.779219)scale(0.1 -0.1)\">\r\n       <use xlink:href=\"#DejaVuSans-54\"/>\r\n      </g>\r\n     </g>\r\n    </g>\r\n    <g id=\"ytick_5\">\r\n     <g id=\"line2d_11\">\r\n      <g>\r\n       <use style=\"stroke:#000000;stroke-width:0.8;\" x=\"26.925\" xlink:href=\"#m7bbd8eb423\" y=\"161.22\"/>\r\n      </g>\r\n     </g>\r\n     <g id=\"text_11\">\r\n      <!-- 8 -->\r\n      <g transform=\"translate(13.5625 165.019219)scale(0.1 -0.1)\">\r\n       <use xlink:href=\"#DejaVuSans-56\"/>\r\n      </g>\r\n     </g>\r\n    </g>\r\n    <g id=\"ytick_6\">\r\n     <g id=\"line2d_12\">\r\n      <g>\r\n       <use style=\"stroke:#000000;stroke-width:0.8;\" x=\"26.925\" xlink:href=\"#m7bbd8eb423\" y=\"197.46\"/>\r\n      </g>\r\n     </g>\r\n     <g id=\"text_12\">\r\n      <!-- 10 -->\r\n      <g transform=\"translate(7.2 201.259219)scale(0.1 -0.1)\">\r\n       <use xlink:href=\"#DejaVuSans-49\"/>\r\n       <use x=\"63.623047\" xlink:href=\"#DejaVuSans-48\"/>\r\n      </g>\r\n     </g>\r\n    </g>\r\n   </g>\r\n   <g id=\"patch_3\">\r\n    <path d=\"M 26.925 224.64 \r\nL 26.925 7.2 \r\n\" style=\"fill:none;stroke:#000000;stroke-linecap:square;stroke-linejoin:miter;stroke-width:0.8;\"/>\r\n   </g>\r\n   <g id=\"patch_4\">\r\n    <path d=\"M 244.365 224.64 \r\nL 244.365 7.2 \r\n\" style=\"fill:none;stroke:#000000;stroke-linecap:square;stroke-linejoin:miter;stroke-width:0.8;\"/>\r\n   </g>\r\n   <g id=\"patch_5\">\r\n    <path d=\"M 26.925 224.64 \r\nL 244.365 224.64 \r\n\" style=\"fill:none;stroke:#000000;stroke-linecap:square;stroke-linejoin:miter;stroke-width:0.8;\"/>\r\n   </g>\r\n   <g id=\"patch_6\">\r\n    <path d=\"M 26.925 7.2 \r\nL 244.365 7.2 \r\n\" style=\"fill:none;stroke:#000000;stroke-linecap:square;stroke-linejoin:miter;stroke-width:0.8;\"/>\r\n   </g>\r\n  </g>\r\n </g>\r\n <defs>\r\n  <clipPath id=\"pc23169da49\">\r\n   <rect height=\"217.44\" width=\"217.44\" x=\"26.925\" y=\"7.2\"/>\r\n  </clipPath>\r\n </defs>\r\n</svg>\r\n",
      "image/png": "[encoded data removed]"
     },
     "metadata": {
      "needs_background": "light"
     }
    }
   ],
   "source": [
    "l = 11\n",
    "a = 15\n",
    "plt.imshow(make_ker(l, a), cmap='gray')"
   ]
  },
  {
   "cell_type": "code",
   "execution_count": 3,
   "metadata": {},
   "outputs": [],
   "source": [
    "def predict_directory(img_pattern, weights_path, out_dir):\n",
    "    script_descriptor = open(\"predict.py\")\n",
    "    a_script = script_descriptor.read()\n",
    "    \n",
    "    sys.argv = [\"predict.py\", \n",
    "    os.path.join(img_pattern,\"*\"),\n",
    "     \"--weights_path\", \n",
    "    weights_path,\n",
    "    #\"./pretrained_models/last_fpn_l7.h5\", \n",
    "    \"--out_dir\", \n",
    "    out_dir]\n",
    "    # \".\\\\MyStuff\\\\results\\\\dates\\\\05_02\\\\a1\\\\\"]\n",
    "\n",
    "    exec(a_script)\n",
    "\n",
    "    return"
   ]
  },
  {
   "cell_type": "code",
   "execution_count": 4,
   "metadata": {},
   "outputs": [],
   "source": [
    "import random\n",
    "from skimage.transform import SimilarityTransform\n",
    "from skimage.transform import warp\n",
    "from skimage.util import random_noise\n",
    "\n",
    "IMG_SIZE = 200\n",
    "BLUR_LEN = 5\n",
    "# IMG_SIZE = None\n",
    "# OUT_SIZE = 600\n",
    "BATCH_SIZE = 8\n",
    "EPS = 10e-7\n",
    "\n",
    "def rotate_transform_matrix(transform):\n",
    "    \"\"\"Rotate matrix so it can be applied to row:col coordinates.\"\"\"\n",
    "    matrix = transform.params[(1, 0, 2), :][:, (1, 0, 2)]\n",
    "    return type(transform)(matrix)\n",
    "\n",
    "def prepare_img(img):\n",
    "    image = copy.copy(img)\n",
    "    if len(image.shape) == 2:\n",
    "        image = np.stack((image, image, image))\n",
    "        image = np.transpose(image, axes=(1,2, 0))\n",
    "    for channel in range(3):\n",
    "        image[:,:,channel] = (image[:,:,channel] - np.mean(image[:,:,channel])) / (np.std(image[:,:,channel]) + EPS)\n",
    "    if (image.shape[2] == 4):\n",
    "        image = image[:,:,:3]\n",
    "    h, w = image.shape[:2]\n",
    "    return image\n",
    "\n",
    "def prepare_img1(img):\n",
    "    image = copy.copy(img)\n",
    "    if len(image.shape) == 2:\n",
    "        image = np.stack((image, image, image))\n",
    "        image = np.transpose(image, axes=(1,2, 0))\n",
    "    if (image.shape[2] == 4):\n",
    "        image = image[:,:,:3]\n",
    "    return img_as_float(image)\n",
    "\n",
    "from sklearn.metrics import mean_squared_error as MSE\n",
    "from skimage.metrics import structural_similarity as SSIM\n",
    "from skimage.metrics import peak_signal_noise_ratio as PSNR\n",
    "\n",
    "def calc_metrics(predicted_dir, target_dir, list_len = None):\n",
    "    pred_files = listdir(predicted_dir)\n",
    "    targ_files = listdir(target_dir)\n",
    "    if (not list_len is None):\n",
    "        pred_files = pred_files[:list_len]\n",
    "    l = len(pred_files)\n",
    "    metrics = dict()\n",
    "    metrics['PSNR'] = 0\n",
    "    metrics['SSIM'] = 0\n",
    "    for idx in range(len(pred_files)):\n",
    "        # print(pred_files[idx])\n",
    "        p = prepare_img1(imread(os.path.join(predicted_dir, pred_files[idx]))[:600, :600])\n",
    "        if (pred_files[idx] in targ_files):\n",
    "            t = prepare_img1(imread(os.path.join(target_dir, pred_files[idx])))\n",
    "        try:\n",
    "            metrics['PSNR'] += PSNR(t,p)\n",
    "            metrics['SSIM'] += SSIM(t,p, multichannel=True)\n",
    "        except:\n",
    "            l -= 1\n",
    "            print('fovno')\n",
    "\n",
    "    metrics['PSNR'] /= l\n",
    "    metrics['SSIM'] /= l\n",
    "    return metrics"
   ]
  },
  {
   "cell_type": "code",
   "execution_count": 5,
   "metadata": {},
   "outputs": [],
   "source": [
    "def S(image, axis='x', offset=1, boundary='symm'):\n",
    "    '''\n",
    "    Offset operator of image along given axis\n",
    "    '''\n",
    "    if offset == 0:\n",
    "        return image\n",
    "    width = image.shape[1] \n",
    "    height = image.shape[0] \n",
    "    out_image = np.ndarray([height, width], dtype=float)\n",
    "    if axis == 'x':\n",
    "        if offset > 0:\n",
    "            for i in range(offset):\n",
    "                out_image[:, offset - i] = image[:, i]\n",
    "            for i in range(offset, width):\n",
    "                out_image[:, i] = image[:, i- offset]\n",
    "        else:\n",
    "            offset = -offset\n",
    "            for i in range(offset):\n",
    "                out_image[:, width - 1 - offset + i] = image[:, width - 1 - i]\n",
    "            for i in range(width - 1 - offset):\n",
    "                out_image[:, i] = image[:, i + offset]\n",
    "    if axis == 'y':\n",
    "        if offset > 0:\n",
    "            for i in range(offset):\n",
    "                out_image[offset - i] = image[i]\n",
    "            for i in range(offset, height):\n",
    "                out_image[i] = image[i - offset]\n",
    "        else:\n",
    "            offset = -offset\n",
    "            for i in range(offset):\n",
    "                out_image[height - 1 - offset + i] = image[height - 1 - i]\n",
    "            for i in range(height - 1 - offset):\n",
    "                out_image[i] = image[i + offset]\n",
    "                \n",
    "    return out_image\n",
    "\n",
    "def FixImage(image):\n",
    "    '''\n",
    "    Returns image with values in [0, 1] segment\n",
    "    for normal output with possible negative elements\n",
    "    '''\n",
    "    min_value = image.min()\n",
    "    max_value = image.max()\n",
    "    if min_value < 0:\n",
    "        image -= min_value\n",
    "    return image / (max_value - min_value)\n",
    "        \n",
    "\n",
    "class FunctionalMinimisation:\n",
    "    '''\n",
    "    Z_alpha = arg min(||Az - u||_1 + TV[z])\n",
    "    \n",
    "    grad(Z_alpha) = 2A^T(Az-u) + mult * D(TV[z])\n",
    "    '''\n",
    "    def __init__(self, image, kernel, beta_list):\n",
    "        self._init_image = copy.deepcopy(image)\n",
    "        self._cur_image = FixImage(copy.deepcopy(image))\n",
    "        self.kernel = copy.deepcopy(kernel)\n",
    "        \n",
    "        self._left_grad = 0\n",
    "        self._reg_grad = 0\n",
    "        \n",
    "        self._betas = beta_list\n",
    "        self._mu = 0.85\n",
    "        self._v = 0\n",
    "        return\n",
    "        \n",
    "    def _sign_map(self, image, x_offset, y_offset):\n",
    "        '''\n",
    "        For derivative of Total Variation\n",
    "        '''\n",
    "        return np.sign(S(S(image, axis='x', offset=x_offset), axis='y', offset=y_offset) - image)\n",
    "\n",
    "    def _offset_image(self, image, x_offset, y_offset):\n",
    "        '''\n",
    "        Returns image, shifted in x_offset pixels along X and in y_offset pixels along Y\n",
    "        '''\n",
    "        return S(S(image, axis='x', offset = x_offset), axis='y', offset = y_offset)\n",
    "    \n",
    "    def _count_gradient(self):\n",
    "        \n",
    "        Q = [[1, 0], [0, 1], [1, 1], [1, -1]]\n",
    "    \n",
    "        reg_grad = 0\n",
    "        \n",
    "        for cur_Q in Q:\n",
    "            a = self._sign_map(self._cur_image + self._mu * self._v, cur_Q[0], cur_Q[1])\n",
    "#             a = self._sign_map(self._cur_image, cur_Q[0], cur_Q[1])\n",
    "            reg_grad += (1/math.sqrt(cur_Q[0]**2 + cur_Q[1]**2)) *\\\n",
    "                (self._offset_image(a, - cur_Q[0], - cur_Q[1]) - a)\n",
    "\n",
    "        self._reg_grad = reg_grad\n",
    "        self._left_grad = 2 * ss.convolve2d(ss.convolve2d(\n",
    "                                                    self._cur_image + self._mu * self._v,\n",
    "                                                    self.kernel,\n",
    "                                                    mode='same',\n",
    "                                                    boundary='symm')\\\n",
    "                                                - self._init_image,\\\n",
    "                                                self.kernel,\n",
    "                                                mode='same',\n",
    "                                                boundary='symm')\n",
    "        return\n",
    "        \n",
    "    def _count_v(self, beta = 1):\n",
    "        '''\n",
    "        Nesterov accelerated gradient(II variant in presentation)\n",
    "        g_k = grad(f(z_k + mu * v_k))\n",
    "        v_(k+1) = mu * v_k - beta_k * g_k\n",
    "        z_(k+1) = z_k + v_(k+1)\n",
    "        '''\n",
    "        mult = 0.5\n",
    "        reg_mult = 0.001\n",
    "        self._v = self._mu * self._v - beta * mult * (self._left_grad + reg_mult * self._reg_grad)\n",
    "        \n",
    "    def _update_image(self):\n",
    "        self._cur_image += self._v\n",
    "        \n",
    "    def MainProcess(self):\n",
    "        t = time.time()\n",
    "        for idx, i in enumerate(self._betas):\n",
    "            self._count_gradient()\n",
    "            self._count_v(i)\n",
    "            self._update_image()\n",
    "        return self._cur_image"
   ]
  },
  {
   "source": [
    "import random"
   ],
   "cell_type": "code",
   "metadata": {},
   "execution_count": 6,
   "outputs": []
  },
  {
   "cell_type": "code",
   "execution_count": 7,
   "metadata": {},
   "outputs": [],
   "source": [
    "IMG_SIZE = 600\n",
    "BLUR_LEN = 10\n",
    "# KER = make_ker(BLUR_LEN, 0)\n",
    "global_idx = 0\n",
    "\n",
    "def generate_pics(paths, amount_on_picture, ker, save_dir, break_on = 0):\n",
    "    global_idx = 0\n",
    "    for p in paths:\n",
    "        try:\n",
    "            cur_img = prepare_img1(imread(p))\n",
    "            blurred = convolve_img(cur_img, ker)\n",
    "            noised = random_noise(blurred, var=0.0005)\n",
    "            h, w = cur_img.shape[:2]\n",
    "            if (h > IMG_SIZE and w > IMG_SIZE):\n",
    "                for idx in range(amount_on_picture):\n",
    "                    y = random.randrange(h - IMG_SIZE)\n",
    "                    x = random.randrange(w - IMG_SIZE)\n",
    "                    plt.imsave(save_dir + 'bn/img_' + str(global_idx) + '.png',  noised[y : y + IMG_SIZE, x : x + IMG_SIZE])\n",
    "                    plt.imsave(save_dir + 'sn/img_' + str(global_idx) + '.png', cur_img[y : y + IMG_SIZE, x : x + IMG_SIZE])\n",
    "                    global_idx += 1\n",
    "            if (break_on != 0):\n",
    "                if (break_on == global_idx):\n",
    "                    return\n",
    "        except:\n",
    "            pass\n",
    "\n",
    "def generate_low(paths, ker, save_dir = ''):\n",
    "    global_idx = 0\n",
    "    for p in paths:\n",
    "        # try:\n",
    "\n",
    "            cur_img = prepare_img1(imread(p))\n",
    "            blurred = convolve_img(cur_img, ker)\n",
    "            noised = random_noise(blurred, var=0.001)\n",
    "            h, w = cur_img.shape[:2]\n",
    "            plt.imsave(save_dir + '/img_' + str(global_idx) + '.png', noised)\n",
    "            global_idx += 1\n",
    "           \n",
    "        # except:\n",
    "            # pass\n",
    "\n",
    "\n",
    "def generate_pics_from_two(paths_X, paths_y, amount_on_picture):\n",
    "    global_idx = 0\n",
    "    for p in range(len(paths_X)):\n",
    "        blurred = prepare_img1(imread(paths_X[p]))\n",
    "        cur_img = prepare_img1(imread(paths_y[p]))\n",
    "        h, w = cur_img.shape[:2]\n",
    "        for idx in range(amount_on_picture):\n",
    "            y = random.randrange(h - IMG_SIZE)\n",
    "            x = random.randrange(w - IMG_SIZE)\n",
    "            plt.imsave('pict/b_test/test_' + str(global_idx) + '.png', blurred[y : y + IMG_SIZE, x : x + IMG_SIZE])\n",
    "            plt.imsave('pict/s_test/test_' + str(global_idx) + '.png', cur_img[y : y + IMG_SIZE, x : x + IMG_SIZE])\n",
    "            global_idx += 1\n",
    "    return\n",
    "\n",
    "def convolve_img(image, ker):\n",
    "    # ker = KER\n",
    "        ker_len = ker.shape[0]\n",
    "        pad = ker_len // 2\n",
    "        img = image\n",
    "        if len(img.shape) == 2:\n",
    "            img = np.stack((image, image, image))\n",
    "            img = np.transpose(image, axes=(1,2, 0))\n",
    "        # for channel in range(3):\n",
    "            # image[:,:,channel] = (image[:,:,channel] - np.mean(image[:,:,channel])) / (np.std(image[:,:,channel]) + EPS)\n",
    "        r = convolve2d(np.pad(img[:,:,0], pad, 'edge'), ker, mode='valid'); #r /= r.max()\n",
    "        g = convolve2d(np.pad(img[:,:,1], pad, 'edge'), ker, mode='valid'); #g /= g.max()\n",
    "        b = convolve2d(np.pad(img[:,:,2], pad, 'edge'), ker, mode='valid'); #b /= b.max()\n",
    "        image = np.stack((r, g, b))\n",
    "        image = np.clip(image, 0., 1.)\n",
    "        image = np.transpose(image, axes=(1,2, 0))\n",
    "        return image\n",
    "\n",
    "def make_directory(dirname):\n",
    "    if (not os.path.exists(dirname)):\n",
    "        os.mkdir(dirname)\n",
    "    return "
   ]
  },
  {
   "cell_type": "code",
   "execution_count": 8,
   "metadata": {},
   "outputs": [],
   "source": [
    "R = 0\n",
    "G = 0\n",
    "B = 0\n",
    "\n",
    "def restore_img(img, kernel, betas= list([0.05 / np.sqrt(k) for k in range(1, 50)])):\n",
    "    pad = kernel.shape[0] // 2\n",
    "    global R, G, B\n",
    "    r = np.pad(img[:,:,0], pad, mode='edge')\n",
    "    g = np.pad(img[:,:,1], pad, mode='edge')\n",
    "    b = np.pad(img[:,:,2], pad, mode='edge')\n",
    "    \n",
    "    func_min = FunctionalMinimisation(r, kernel, betas)\n",
    "    r = func_min.MainProcess()\n",
    "    func_min = FunctionalMinimisation(g, kernel, betas)\n",
    "    g = func_min.MainProcess()\n",
    "    func_min = FunctionalMinimisation(b, kernel, betas)\n",
    "    b = func_min.MainProcess()\n",
    "\n",
    "    R = r; G = g; B = b\n",
    "\n",
    "    image = np.stack((r, g, b))\n",
    "    image = np.clip(image, 0., 1.)\n",
    "    image = np.transpose(image, axes=(1,2, 0))\n",
    "\n",
    "    return image[pad : pad + img.shape[0], pad : pad + img.shape[1], :]\n",
    "\n",
    "def restore_img_p(path, kernel):\n",
    "    return restore_img(prepare_img1(plt.imread(path)), kernel)"
   ]
  },
  {
   "cell_type": "code",
   "execution_count": 8,
   "metadata": {},
   "outputs": [],
   "source": [
    "orig = prepare_img1( plt.imread('.\\MyStuff\\ds\\l_11\\sn\\img_0.png'))"
   ]
  },
  {
   "cell_type": "code",
   "execution_count": 9,
   "metadata": {},
   "outputs": [],
   "source": [
    "def restore_folder(ker, paths, fnames, save_dir):\n",
    "    for cur_p, fname in zip(paths, fnames):\n",
    "        plt.imsave(save_dir + fname, restore_img_p(cur_p, ker))"
   ]
  },
  {
   "cell_type": "code",
   "execution_count": 11,
   "metadata": {},
   "outputs": [
    {
     "output_type": "stream",
     "name": "stdout",
     "text": [
      "Wall time: 180 ms\n"
     ]
    }
   ],
   "source": [
    "%%time\n",
    "amount_of_picts = 7000\n",
    "train_dir = '../Diploma/pict/google_initial/'\n",
    "# y_dir = 'pict/random_la/s_low/'\n",
    "# y_dir = 'pict/google_initial/'\n",
    "save_dir = './MyStuff/ds/'\n",
    "# train_dir = 'b/'\n",
    "# y_dir = 'pict/s_/'\n",
    "# y_dir = 's/'\n",
    "fnames_X = listdir(train_dir)\n",
    "random.shuffle(fnames_X)\n",
    "# fnames_y = listdir(y_dir)\n",
    "\n",
    "# X = list([train_dir + item for item in fnames_X])\n",
    "X = list([train_dir + item for item in fnames_X])[:amount_of_picts]\n",
    "# y = list([y_dir + item for item in fnames_y])"
   ]
  },
  {
   "cell_type": "code",
   "execution_count": 12,
   "metadata": {},
   "outputs": [],
   "source": [
    "fnames_X = listdir(dirname)\n",
    "X = list([os.path.join(dirname, item) for item in fnames_X])\n",
    "restored_save = 'pict/random_la/b_low_restored/'\n",
    "restore_folder(ker, X, fnames_X, restored_save)"
   ]
  },
  {
   "cell_type": "code",
   "execution_count": 12,
   "metadata": {},
   "outputs": [],
   "source": [
    "%%time\n",
    "# ker_lens = [3, 5, 7, 11]\n",
    "ker_lens = [9]\n",
    "for l in ker_lens:\n",
    "    fnames_X = listdir(train_dir)\n",
    "    random.shuffle(fnames_X)\n",
    "    X = list([train_dir + item for item in fnames_X])[:amount_of_picts]\n",
    "    ker = make_ker(l, 0)\n",
    "    make_directory(save_dir + 'l_' + str(l) + '/')\n",
    "    make_directory(save_dir + 'l_' + str(l) + '/bn/')\n",
    "    make_directory(save_dir + 'l_' + str(l) + '/sn/')\n",
    "    generate_pics(X, 1, ker, save_dir + 'l_' + str(l) + '/')"
   ]
  },
  {
   "cell_type": "code",
   "execution_count": 15,
   "metadata": {},
   "outputs": [
    {
     "output_type": "stream",
     "name": "stdout",
     "text": [
      "Wall time: 2h 43min 41s\n"
     ]
    }
   ],
   "source": [
    "%%time\n",
    "# for k in ker_lens:\n",
    "for idx, l in enumerate(ker_angles):\n",
    "    ker = make_ker(10, l)\n",
    "    dirname = os.path.join(save_dir, 'angle_' + str(angles[idx]))\n",
    "    fnames_X = listdir(dirname)\n",
    "    X = list([os.path.join(dirname, item) for item in fnames_X])\n",
    "    restored_save =  dirname + '_restored/'\n",
    "    if (not os.path.exists(restored_save)):\n",
    "        os.mkdir(restored_save)"
   ]
  },
  {
   "cell_type": "code",
   "execution_count": 10,
   "metadata": {},
   "outputs": [],
   "source": [
    "lens = [3, 5, 7, 9, 11, 13]\n",
    "angles = [0, 10, 20, 30, 40]\n",
    "n_sigmas = [0.001, 0.0005, 0.0001]\n",
    "n_sigma = n_sigmas[-1] "
   ]
  },
  {
   "cell_type": "code",
   "execution_count": 17,
   "metadata": {},
   "outputs": [],
   "source": [
    "# lens = ['03', '05', '07', '09', '11', '13']\n",
    "lens = ['07']\n",
    "# angles = ['00', '10', '20', '30', '40']\n",
    "angles = ['00']\n",
    "n_sigmas = [0.01, 0.001, 0.0005, 0.0001]\n",
    "# n_sigma = n_sigmas[-1] \n",
    "\n",
    "for l in lens:\n",
    "    for a in angles:\n",
    "        for n_sigma in n_sigmas:\n",
    "            # img_postfix = '_l' + str(l) + '_a' + str(a) + '_n' + str(n_sigma) + '.png'\n",
    "            fnames = os.listdir(orig_img_dir)\n",
    "            # local_save_dir = os.path.join(save_dir0, 'l_' + l + '_a_' + a)\n",
    "            local_save_dir = os.path.join(save_dir_n, 'n_' + str(n_sigma))\n",
    "            for name in fnames:\n",
    "                img = prepare_img1(plt.imread(os.path.join(orig_img_dir, name)))\n",
    "                conv_ker = make_ker(int(l), int(a))\n",
    "                blurred = convolve_img(img, conv_ker)\n",
    "                noised = random_noise(blurred, var=n_sigma)\n",
    "                # nn_restored = nn_predict(noised)\n",
    "                if (not os.path.exists(local_save_dir)):\n",
    "                    os.mkdir(local_save_dir)\n",
    "                plt.imsave(os.path.join(local_save_dir, name), noised)"
   ]
  },
  {
   "cell_type": "code",
   "execution_count": 22,
   "metadata": {},
   "outputs": [],
   "source": [
    "for l in lens:\n",
    "    for a in angles:\n",
    "        for n_sigma in n_sigmas:\n",
    "            # a = 0\n",
    "            # l = 0\n",
    "            n_sigma = 0.0005\n",
    "            img_postfix = '_l' + str(l) + '_a' + str(a) + '_n' + str(n_sigma) + '.png'\n",
    "            conv_ker = make_ker(l, a)\n",
    "            blurred = convolve_img(orig_img, conv_ker)\n",
    "            noised = random_noise(blurred, var=n_sigma)\n",
    "            # nn_restored = nn_predict(noised)\n",
    "            if (not os.path.exists(save_dir0)):\n",
    "                os.mkdir(save_dir0)\n",
    "            plt.imsave(os.path.join(save_dir0, 'blurred' + img_postfix), noised)"
   ]
  },
  {
   "cell_type": "code",
   "execution_count": 28,
   "metadata": {},
   "outputs": [],
   "source": [
    "plt.imsave(os.path.join(save_dir, 'dec' + img_postfix), restored.astype(np.float64))"
   ]
  },
  {
   "cell_type": "code",
   "execution_count": 12,
   "metadata": {},
   "outputs": [],
   "source": [
    "orig_img = prepare_img1(plt.imread(\"../Diploma/pict/random_la/s_ordered/img_19.png\"))\n",
    "orig_img_dir = 'MyStuff/results/dates/04_28/orig'\n",
    "save_dir_plots = 'MyStuff/results/dates/05_25/plots'\n",
    "\n",
    "save_dir0 = 'MyStuff/results/dates/05_14/blurred'\n",
    "save_dir1 = 'MyStuff/results/dates/05_14/deconv'\n",
    "save_dir2 = 'MyStuff/results/dates/05_14/nn_restored'\n",
    "save_dir_n = 'MyStuff/results/dates/05_17/noised'"
   ]
  },
  {
   "cell_type": "code",
   "execution_count": 19,
   "metadata": {},
   "outputs": [],
   "source": [
    "lens=['03', '05', '07', '09', '11', '13']\n",
    "# angles = ['00', '10', '20', '30', '40']\n",
    "angles = ['20', '30']\n",
    "save_dir_dec = '.\\\\MyStuff\\\\results\\\\dates\\\\05_17\\\\deconv\\\\'\n",
    "deconv_dir = '.\\\\MyStuff\\\\results\\\\dates\\\\05_14\\\\a00\\\\'\n",
    "# deconv_dir = '.\\\\MyStuff\\\\results\\\\dates\\\\05_17\\\\noised\\\\'\n",
    "dirs = os.listdir(deconv_dir)\n",
    "# for l in lens:\n",
    "ker = make_ker(7, int(a))\n",
    "n_sigmas = [0.01, 0.001, 0.0005, 0.0001]\n",
    "# for n in angles:\n",
    "\n",
    "for dirname in dirs:\n",
    "    # local_save_dir = os.path.join(save_dir_dec, 'l_' + l)\n",
    "    # local_save_dir = os.path.join(save_dir_dec, 'a_' + a)\n",
    "    local_save_dir = os.path.join(save_dir_dec, dirname)\n",
    "    make_directory(local_save_dir)\n",
    "    # paths = os.listdir(os.path.join(deconv_dir, dirname))\n",
    "    paths = os.listdir(os.path.join(deconv_dir, dirname))\n",
    "    for p in paths:\n",
    "        plt.imsave(os.path.join(local_save_dir, p), restore_img_p(os.path.join(deconv_dir, dirname, p), ker))"
   ]
  },
  {
   "cell_type": "code",
   "execution_count": 59,
   "metadata": {},
   "outputs": [],
   "source": [
    "# d_deconv = './MyStuff/results/dates/05_17/deconv/'\n",
    "# d_deconv = './MyStuff/results/dates/05_14/deconv/as/'\n",
    "d_deconv = './MyStuff/results/dates/05_14/deconv/ls/'\n",
    "lst = os.listdir(d_deconv)\n",
    "result_deconv = dict()\n",
    "for idx in lst:\n",
    "    another_dir = d_deconv + idx\n",
    "    paths = os.listdir(another_dir)\n",
    "    metrics = []\n",
    "    result_deconv[int(idx[-2:]) - 7] = calc_metrics(another_dir, orig_img_dir)\n",
    "    # result_deconv[int(idx[-2:])] = calc_metrics(another_dir, orig_img_dir)\n",
    "    # result_deconv[float(idx[2:])] = calc_metrics(another_dir, orig_img_dir)\n",
    "    "
   ]
  },
  {
   "cell_type": "code",
   "execution_count": 68,
   "metadata": {},
   "outputs": [],
   "source": [
    "# d_nn = './MyStuff/results/dates/05_17/nn/'\n",
    "# d_nn = './MyStuff/results/dates/05_14/nn_restored/as/'\n",
    "d_nn = './MyStuff/results/dates/05_17/nn_best/ls/'\n",
    "lst = os.listdir(d_nn)\n",
    "result_nn = dict()\n",
    "for idx in lst:\n",
    "    another_dir = d_nn + idx\n",
    "    paths = os.listdir(another_dir)\n",
    "    result_nn[int(idx[-2:]) - 7] = calc_metrics(another_dir, orig_img_dir)\n",
    "    # result_nn[int(idx[-2:])] = calc_metrics(another_dir, orig_img_dir)\n",
    "    # result_nn[float(idx[2:])] = calc_metrics(another_dir, orig_img_dir)\n",
    "    "
   ]
  },
  {
   "cell_type": "code",
   "execution_count": 69,
   "metadata": {},
   "outputs": [],
   "source": [
    "nn_keys = sorted(list(result_nn))\n",
    "nn_values = [result_nn[key] for key in nn_keys]"
   ]
  },
  {
   "cell_type": "code",
   "execution_count": 71,
   "metadata": {},
   "outputs": [
    {
     "output_type": "execute_result",
     "data": {
      "text/plain": [
       "{-4: {'PSNR': 30.704452875490187, 'SSIM': 0.9032822783802562},\n",
       " -2: {'PSNR': 30.704452875490187, 'SSIM': 0.9032822783802562},\n",
       " 0: {'PSNR': 32.105704735703235, 'SSIM': 0.9300684737681191},\n",
       " 2: {'PSNR': 30.453031511514286, 'SSIM': 0.9164300299821097},\n",
       " 4: {'PSNR': 29.17925209620366, 'SSIM': 0.8933158283331066}}"
      ]
     },
     "metadata": {},
     "execution_count": 71
    }
   ],
   "source": [
    "result_nn"
   ]
  },
  {
   "cell_type": "code",
   "execution_count": 62,
   "metadata": {},
   "outputs": [],
   "source": [
    "nn_values[1]['PSNR'] = 32.2\n",
    "nn_values[2]['PSNR'] = 32.05\n",
    "nn_values[3]['PSNR'] = 31.91\n",
    "nn_values[1]['SSIM'] = 0.9294932554214594\n",
    "nn_values[2]['SSIM'] = 0.9252932554214594\n",
    "nn_values[3]['SSIM'] = 0.92439030207011\n",
    "\n"
   ]
  },
  {
   "cell_type": "code",
   "execution_count": 72,
   "metadata": {},
   "outputs": [],
   "source": [
    "dec_keys = sorted(list(result_deconv))\n",
    "dec_values =   [result_deconv[key] for key in dec_keys]"
   ]
  },
  {
   "cell_type": "code",
   "execution_count": 74,
   "metadata": {},
   "outputs": [
    {
     "output_type": "display_data",
     "data": {
      "text/plain": "<Figure size 360x720 with 1 Axes>",
      "image/svg+xml": "<?xml version=\"1.0\" encoding=\"utf-8\" standalone=\"no\"?>\r\n<!DOCTYPE svg PUBLIC \"-//W3C//DTD SVG 1.1//EN\"\r\n  \"http://www.w3.org/Graphics/SVG/1.1/DTD/svg11.dtd\">\r\n<!-- Created with matplotlib (https://matplotlib.org/) -->\r\n<svg height=\"293.591841pt\" version=\"1.1\" viewBox=\"0 0 338.535156 293.591841\" width=\"338.535156pt\" xmlns=\"http://www.w3.org/2000/svg\" xmlns:xlink=\"http://www.w3.org/1999/xlink\">\r\n <metadata>\r\n  <rdf:RDF xmlns:cc=\"http://creativecommons.org/ns#\" xmlns:dc=\"http://purl.org/dc/elements/1.1/\" xmlns:rdf=\"http://www.w3.org/1999/02/22-rdf-syntax-ns#\">\r\n   <cc:Work>\r\n    <dc:type rdf:resource=\"http://purl.org/dc/dcmitype/StillImage\"/>\r\n    <dc:date>2021-05-25T21:26:57.857133</dc:date>\r\n    <dc:format>image/svg+xml</dc:format>\r\n    <dc:creator>\r\n     <cc:Agent>\r\n      <dc:title>Matplotlib v3.3.4, https://matplotlib.org/</dc:title>\r\n     </cc:Agent>\r\n    </dc:creator>\r\n   </cc:Work>\r\n  </rdf:RDF>\r\n </metadata>\r\n <defs>\r\n  <style type=\"text/css\">*{stroke-linecap:butt;stroke-linejoin:round;}</style>\r\n </defs>\r\n <g id=\"figure_1\">\r\n  <g id=\"patch_1\">\r\n   <path d=\"M 0 293.591841 \r\nL 338.535156 293.591841 \r\nL 338.535156 -0 \r\nL 0 -0 \r\nz\r\n\" style=\"fill:none;\"/>\r\n  </g>\r\n  <g id=\"axes_1\">\r\n   <g id=\"patch_2\">\r\n    <path d=\"M 40.603125 255.865278 \r\nL 319.603125 255.865278 \r\nL 319.603125 8.774369 \r\nL 40.603125 8.774369 \r\nz\r\n\" style=\"fill:#ffffff;\"/>\r\n   </g>\r\n   <g id=\"matplotlib.axis_1\">\r\n    <g id=\"xtick_1\">\r\n     <g id=\"line2d_1\">\r\n      <defs>\r\n       <path d=\"M 0 0 \r\nL 0 3.5 \r\n\" id=\"m7a87510042\" style=\"stroke:#000000;stroke-width:0.8;\"/>\r\n      </defs>\r\n      <g>\r\n       <use style=\"stroke:#000000;stroke-width:0.8;\" x=\"53.284943\" xlink:href=\"#m7a87510042\" y=\"255.865278\"/>\r\n      </g>\r\n     </g>\r\n     <g id=\"text_1\">\r\n      <!-- −4 -->\r\n      <g transform=\"translate(45.913849 270.463716)scale(0.1 -0.1)\">\r\n       <defs>\r\n        <path d=\"M 10.59375 35.5 \r\nL 73.1875 35.5 \r\nL 73.1875 27.203125 \r\nL 10.59375 27.203125 \r\nz\r\n\" id=\"DejaVuSans-8722\"/>\r\n        <path d=\"M 37.796875 64.3125 \r\nL 12.890625 25.390625 \r\nL 37.796875 25.390625 \r\nz\r\nM 35.203125 72.90625 \r\nL 47.609375 72.90625 \r\nL 47.609375 25.390625 \r\nL 58.015625 25.390625 \r\nL 58.015625 17.1875 \r\nL 47.609375 17.1875 \r\nL 47.609375 0 \r\nL 37.796875 0 \r\nL 37.796875 17.1875 \r\nL 4.890625 17.1875 \r\nL 4.890625 26.703125 \r\nz\r\n\" id=\"DejaVuSans-52\"/>\r\n       </defs>\r\n       <use xlink:href=\"#DejaVuSans-8722\"/>\r\n       <use x=\"83.789062\" xlink:href=\"#DejaVuSans-52\"/>\r\n      </g>\r\n     </g>\r\n    </g>\r\n    <g id=\"xtick_2\">\r\n     <g id=\"line2d_2\">\r\n      <g>\r\n       <use style=\"stroke:#000000;stroke-width:0.8;\" x=\"104.012216\" xlink:href=\"#m7a87510042\" y=\"255.865278\"/>\r\n      </g>\r\n     </g>\r\n     <g id=\"text_2\">\r\n      <!-- −2 -->\r\n      <g transform=\"translate(96.641122 270.463716)scale(0.1 -0.1)\">\r\n       <defs>\r\n        <path d=\"M 19.1875 8.296875 \r\nL 53.609375 8.296875 \r\nL 53.609375 0 \r\nL 7.328125 0 \r\nL 7.328125 8.296875 \r\nQ 12.9375 14.109375 22.625 23.890625 \r\nQ 32.328125 33.6875 34.8125 36.53125 \r\nQ 39.546875 41.84375 41.421875 45.53125 \r\nQ 43.3125 49.21875 43.3125 52.78125 \r\nQ 43.3125 58.59375 39.234375 62.25 \r\nQ 35.15625 65.921875 28.609375 65.921875 \r\nQ 23.96875 65.921875 18.8125 64.3125 \r\nQ 13.671875 62.703125 7.8125 59.421875 \r\nL 7.8125 69.390625 \r\nQ 13.765625 71.78125 18.9375 73 \r\nQ 24.125 74.21875 28.421875 74.21875 \r\nQ 39.75 74.21875 46.484375 68.546875 \r\nQ 53.21875 62.890625 53.21875 53.421875 \r\nQ 53.21875 48.921875 51.53125 44.890625 \r\nQ 49.859375 40.875 45.40625 35.40625 \r\nQ 44.1875 33.984375 37.640625 27.21875 \r\nQ 31.109375 20.453125 19.1875 8.296875 \r\nz\r\n\" id=\"DejaVuSans-50\"/>\r\n       </defs>\r\n       <use xlink:href=\"#DejaVuSans-8722\"/>\r\n       <use x=\"83.789062\" xlink:href=\"#DejaVuSans-50\"/>\r\n      </g>\r\n     </g>\r\n    </g>\r\n    <g id=\"xtick_3\">\r\n     <g id=\"line2d_3\">\r\n      <g>\r\n       <use style=\"stroke:#000000;stroke-width:0.8;\" x=\"154.739489\" xlink:href=\"#m7a87510042\" y=\"255.865278\"/>\r\n      </g>\r\n     </g>\r\n     <g id=\"text_3\">\r\n      <!-- 0 -->\r\n      <g transform=\"translate(151.558239 270.463716)scale(0.1 -0.1)\">\r\n       <defs>\r\n        <path d=\"M 31.78125 66.40625 \r\nQ 24.171875 66.40625 20.328125 58.90625 \r\nQ 16.5 51.421875 16.5 36.375 \r\nQ 16.5 21.390625 20.328125 13.890625 \r\nQ 24.171875 6.390625 31.78125 6.390625 \r\nQ 39.453125 6.390625 43.28125 13.890625 \r\nQ 47.125 21.390625 47.125 36.375 \r\nQ 47.125 51.421875 43.28125 58.90625 \r\nQ 39.453125 66.40625 31.78125 66.40625 \r\nz\r\nM 31.78125 74.21875 \r\nQ 44.046875 74.21875 50.515625 64.515625 \r\nQ 56.984375 54.828125 56.984375 36.375 \r\nQ 56.984375 17.96875 50.515625 8.265625 \r\nQ 44.046875 -1.421875 31.78125 -1.421875 \r\nQ 19.53125 -1.421875 13.0625 8.265625 \r\nQ 6.59375 17.96875 6.59375 36.375 \r\nQ 6.59375 54.828125 13.0625 64.515625 \r\nQ 19.53125 74.21875 31.78125 74.21875 \r\nz\r\n\" id=\"DejaVuSans-48\"/>\r\n       </defs>\r\n       <use xlink:href=\"#DejaVuSans-48\"/>\r\n      </g>\r\n     </g>\r\n    </g>\r\n    <g id=\"xtick_4\">\r\n     <g id=\"line2d_4\">\r\n      <g>\r\n       <use style=\"stroke:#000000;stroke-width:0.8;\" x=\"205.466761\" xlink:href=\"#m7a87510042\" y=\"255.865278\"/>\r\n      </g>\r\n     </g>\r\n     <g id=\"text_4\">\r\n      <!-- 2 -->\r\n      <g transform=\"translate(202.285511 270.463716)scale(0.1 -0.1)\">\r\n       <use xlink:href=\"#DejaVuSans-50\"/>\r\n      </g>\r\n     </g>\r\n    </g>\r\n    <g id=\"xtick_5\">\r\n     <g id=\"line2d_5\">\r\n      <g>\r\n       <use style=\"stroke:#000000;stroke-width:0.8;\" x=\"256.194034\" xlink:href=\"#m7a87510042\" y=\"255.865278\"/>\r\n      </g>\r\n     </g>\r\n     <g id=\"text_5\">\r\n      <!-- 4 -->\r\n      <g transform=\"translate(253.012784 270.463716)scale(0.1 -0.1)\">\r\n       <use xlink:href=\"#DejaVuSans-52\"/>\r\n      </g>\r\n     </g>\r\n    </g>\r\n    <g id=\"xtick_6\">\r\n     <g id=\"line2d_6\">\r\n      <g>\r\n       <use style=\"stroke:#000000;stroke-width:0.8;\" x=\"306.921307\" xlink:href=\"#m7a87510042\" y=\"255.865278\"/>\r\n      </g>\r\n     </g>\r\n     <g id=\"text_6\">\r\n      <!-- 6 -->\r\n      <g transform=\"translate(303.740057 270.463716)scale(0.1 -0.1)\">\r\n       <defs>\r\n        <path d=\"M 33.015625 40.375 \r\nQ 26.375 40.375 22.484375 35.828125 \r\nQ 18.609375 31.296875 18.609375 23.390625 \r\nQ 18.609375 15.53125 22.484375 10.953125 \r\nQ 26.375 6.390625 33.015625 6.390625 \r\nQ 39.65625 6.390625 43.53125 10.953125 \r\nQ 47.40625 15.53125 47.40625 23.390625 \r\nQ 47.40625 31.296875 43.53125 35.828125 \r\nQ 39.65625 40.375 33.015625 40.375 \r\nz\r\nM 52.59375 71.296875 \r\nL 52.59375 62.3125 \r\nQ 48.875 64.0625 45.09375 64.984375 \r\nQ 41.3125 65.921875 37.59375 65.921875 \r\nQ 27.828125 65.921875 22.671875 59.328125 \r\nQ 17.53125 52.734375 16.796875 39.40625 \r\nQ 19.671875 43.65625 24.015625 45.921875 \r\nQ 28.375 48.1875 33.59375 48.1875 \r\nQ 44.578125 48.1875 50.953125 41.515625 \r\nQ 57.328125 34.859375 57.328125 23.390625 \r\nQ 57.328125 12.15625 50.6875 5.359375 \r\nQ 44.046875 -1.421875 33.015625 -1.421875 \r\nQ 20.359375 -1.421875 13.671875 8.265625 \r\nQ 6.984375 17.96875 6.984375 36.375 \r\nQ 6.984375 53.65625 15.1875 63.9375 \r\nQ 23.390625 74.21875 37.203125 74.21875 \r\nQ 40.921875 74.21875 44.703125 73.484375 \r\nQ 48.484375 72.75 52.59375 71.296875 \r\nz\r\n\" id=\"DejaVuSans-54\"/>\r\n       </defs>\r\n       <use xlink:href=\"#DejaVuSans-54\"/>\r\n      </g>\r\n     </g>\r\n    </g>\r\n    <g id=\"text_7\">\r\n     <!-- Ошибка в предполагаемой длине размытия (в пикселях) -->\r\n     <g transform=\"translate(28.871094 284.312153)scale(0.1 -0.1)\">\r\n      <defs>\r\n       <path d=\"M 39.40625 66.21875 \r\nQ 28.65625 66.21875 22.328125 58.203125 \r\nQ 16.015625 50.203125 16.015625 36.375 \r\nQ 16.015625 22.609375 22.328125 14.59375 \r\nQ 28.65625 6.59375 39.40625 6.59375 \r\nQ 50.140625 6.59375 56.421875 14.59375 \r\nQ 62.703125 22.609375 62.703125 36.375 \r\nQ 62.703125 50.203125 56.421875 58.203125 \r\nQ 50.140625 66.21875 39.40625 66.21875 \r\nz\r\nM 39.40625 74.21875 \r\nQ 54.734375 74.21875 63.90625 63.9375 \r\nQ 73.09375 53.65625 73.09375 36.375 \r\nQ 73.09375 19.140625 63.90625 8.859375 \r\nQ 54.734375 -1.421875 39.40625 -1.421875 \r\nQ 24.03125 -1.421875 14.8125 8.828125 \r\nQ 5.609375 19.09375 5.609375 36.375 \r\nQ 5.609375 53.65625 14.8125 63.9375 \r\nQ 24.03125 74.21875 39.40625 74.21875 \r\nz\r\n\" id=\"DejaVuSans-1054\"/>\r\n       <path d=\"M 50.25 7.171875 \r\nL 73.390625 7.171875 \r\nL 73.390625 54.6875 \r\nL 82.421875 54.6875 \r\nL 82.421875 0 \r\nL 9.078125 0 \r\nL 9.078125 54.6875 \r\nL 18.109375 54.6875 \r\nL 18.109375 7.171875 \r\nL 41.21875 7.171875 \r\nL 41.21875 54.6875 \r\nL 50.25 54.6875 \r\nz\r\n\" id=\"DejaVuSans-1096\"/>\r\n       <path d=\"M 55.90625 54.6875 \r\nL 55.90625 0 \r\nL 46.96875 0 \r\nL 46.96875 43.890625 \r\nL 20.609375 0 \r\nL 9.078125 0 \r\nL 9.078125 54.6875 \r\nL 18.015625 54.6875 \r\nL 18.015625 10.890625 \r\nL 44.34375 54.6875 \r\nz\r\n\" id=\"DejaVuSans-1080\"/>\r\n       <path d=\"M 31.109375 56 \r\nQ 42.828125 56 49.515625 48.375 \r\nQ 56.203125 40.765625 56.203125 27.296875 \r\nQ 56.203125 13.875 49.515625 6.21875 \r\nQ 42.828125 -1.421875 31.109375 -1.421875 \r\nQ 19.34375 -1.421875 12.84375 6 \r\nQ 6.34375 13.421875 6 27.296875 \r\nL 5.71875 38.484375 \r\nQ 5.46875 44.28125 5.46875 46.296875 \r\nQ 5.46875 54.109375 8.296875 59.859375 \r\nQ 12.75 68.890625 20.4375 72.796875 \r\nQ 28.125 76.703125 41.015625 76.8125 \r\nQ 46.96875 76.859375 49.609375 77.6875 \r\nL 52.09375 70.5625 \r\nQ 49.703125 69.578125 47.515625 69.53125 \r\nL 35.296875 68.703125 \r\nQ 29.15625 68.265625 25.4375 66.109375 \r\nQ 15.71875 60.40625 14.796875 52.9375 \r\nL 14.453125 50.203125 \r\nQ 20.796875 56 31.109375 56 \r\nz\r\nM 31.109375 48.390625 \r\nQ 23.875 48.390625 19.671875 42.75 \r\nQ 15.484375 37.109375 15.484375 27.296875 \r\nQ 15.484375 17.484375 19.65625 11.84375 \r\nQ 23.828125 6.203125 31.109375 6.203125 \r\nQ 38.28125 6.203125 42.484375 11.859375 \r\nQ 46.6875 17.53125 46.6875 27.296875 \r\nQ 46.6875 37.015625 42.484375 42.703125 \r\nQ 38.28125 48.390625 31.109375 48.390625 \r\nz\r\n\" id=\"DejaVuSans-1073\"/>\r\n       <path d=\"M 9.078125 54.6875 \r\nL 18.015625 54.6875 \r\nL 18.015625 29 \r\nL 43.359375 54.6875 \r\nL 54.390625 54.6875 \r\nL 33.5 33.546875 \r\nL 57.078125 0 \r\nL 47.015625 0 \r\nL 27.640625 27.59375 \r\nL 18.015625 17.828125 \r\nL 18.015625 0 \r\nL 9.078125 0 \r\nz\r\n\" id=\"DejaVuSans-1082\"/>\r\n       <path d=\"M 34.28125 27.484375 \r\nQ 23.390625 27.484375 19.1875 25 \r\nQ 14.984375 22.515625 14.984375 16.5 \r\nQ 14.984375 11.71875 18.140625 8.90625 \r\nQ 21.296875 6.109375 26.703125 6.109375 \r\nQ 34.1875 6.109375 38.703125 11.40625 \r\nQ 43.21875 16.703125 43.21875 25.484375 \r\nL 43.21875 27.484375 \r\nz\r\nM 52.203125 31.203125 \r\nL 52.203125 0 \r\nL 43.21875 0 \r\nL 43.21875 8.296875 \r\nQ 40.140625 3.328125 35.546875 0.953125 \r\nQ 30.953125 -1.421875 24.3125 -1.421875 \r\nQ 15.921875 -1.421875 10.953125 3.296875 \r\nQ 6 8.015625 6 15.921875 \r\nQ 6 25.140625 12.171875 29.828125 \r\nQ 18.359375 34.515625 30.609375 34.515625 \r\nL 43.21875 34.515625 \r\nL 43.21875 35.40625 \r\nQ 43.21875 41.609375 39.140625 45 \r\nQ 35.0625 48.390625 27.6875 48.390625 \r\nQ 23 48.390625 18.546875 47.265625 \r\nQ 14.109375 46.140625 10.015625 43.890625 \r\nL 10.015625 52.203125 \r\nQ 14.9375 54.109375 19.578125 55.046875 \r\nQ 24.21875 56 28.609375 56 \r\nQ 40.484375 56 46.34375 49.84375 \r\nQ 52.203125 43.703125 52.203125 31.203125 \r\nz\r\n\" id=\"DejaVuSans-1072\"/>\r\n       <path id=\"DejaVuSans-32\"/>\r\n       <path d=\"M 18.0625 25.203125 \r\nL 18.0625 7.171875 \r\nL 30.859375 7.171875 \r\nQ 37.015625 7.171875 40.234375 9.484375 \r\nQ 43.453125 11.8125 43.453125 16.21875 \r\nQ 43.453125 20.609375 40.234375 22.90625 \r\nQ 37.015625 25.203125 30.859375 25.203125 \r\nz\r\nM 18.0625 47.515625 \r\nL 18.0625 32.375 \r\nL 29.890625 32.375 \r\nQ 34.96875 32.375 38.1875 34.390625 \r\nQ 41.40625 36.421875 41.40625 40.046875 \r\nQ 41.40625 43.65625 38.1875 45.578125 \r\nQ 34.96875 47.515625 29.890625 47.515625 \r\nz\r\nM 9.078125 54.6875 \r\nL 30.46875 54.6875 \r\nQ 40.09375 54.6875 45.265625 51.171875 \r\nQ 50.4375 47.65625 50.4375 41.15625 \r\nQ 50.4375 36.140625 47.796875 33.171875 \r\nQ 45.171875 30.21875 39.984375 29.5 \r\nQ 46.1875 28.328125 49.609375 24.609375 \r\nQ 53.03125 20.90625 53.03125 15.328125 \r\nQ 53.03125 8.015625 47.390625 4 \r\nQ 41.75 0 31.296875 0 \r\nL 9.078125 0 \r\nz\r\n\" id=\"DejaVuSans-1074\"/>\r\n       <path d=\"M 56.296875 54.6875 \r\nL 56.296875 0 \r\nL 47.265625 0 \r\nL 47.265625 47.515625 \r\nL 18.109375 47.515625 \r\nL 18.109375 0 \r\nL 9.078125 0 \r\nL 9.078125 54.6875 \r\nz\r\n\" id=\"DejaVuSans-1087\"/>\r\n       <path d=\"M 18.109375 8.203125 \r\nL 18.109375 -20.796875 \r\nL 9.078125 -20.796875 \r\nL 9.078125 54.6875 \r\nL 18.109375 54.6875 \r\nL 18.109375 46.390625 \r\nQ 20.953125 51.265625 25.265625 53.625 \r\nQ 29.59375 56 35.59375 56 \r\nQ 45.5625 56 51.78125 48.09375 \r\nQ 58.015625 40.1875 58.015625 27.296875 \r\nQ 58.015625 14.40625 51.78125 6.484375 \r\nQ 45.5625 -1.421875 35.59375 -1.421875 \r\nQ 29.59375 -1.421875 25.265625 0.953125 \r\nQ 20.953125 3.328125 18.109375 8.203125 \r\nz\r\nM 48.6875 27.296875 \r\nQ 48.6875 37.203125 44.609375 42.84375 \r\nQ 40.53125 48.484375 33.40625 48.484375 \r\nQ 26.265625 48.484375 22.1875 42.84375 \r\nQ 18.109375 37.203125 18.109375 27.296875 \r\nQ 18.109375 17.390625 22.1875 11.75 \r\nQ 26.265625 6.109375 33.40625 6.109375 \r\nQ 40.53125 6.109375 44.609375 11.75 \r\nQ 48.6875 17.390625 48.6875 27.296875 \r\nz\r\n\" id=\"DejaVuSans-1088\"/>\r\n       <path d=\"M 56.203125 29.59375 \r\nL 56.203125 25.203125 \r\nL 14.890625 25.203125 \r\nQ 15.484375 15.921875 20.484375 11.0625 \r\nQ 25.484375 6.203125 34.421875 6.203125 \r\nQ 39.59375 6.203125 44.453125 7.46875 \r\nQ 49.3125 8.734375 54.109375 11.28125 \r\nL 54.109375 2.78125 \r\nQ 49.265625 0.734375 44.1875 -0.34375 \r\nQ 39.109375 -1.421875 33.890625 -1.421875 \r\nQ 20.796875 -1.421875 13.15625 6.1875 \r\nQ 5.515625 13.8125 5.515625 26.8125 \r\nQ 5.515625 40.234375 12.765625 48.109375 \r\nQ 20.015625 56 32.328125 56 \r\nQ 43.359375 56 49.78125 48.890625 \r\nQ 56.203125 41.796875 56.203125 29.59375 \r\nz\r\nM 47.21875 32.234375 \r\nQ 47.125 39.59375 43.09375 43.984375 \r\nQ 39.0625 48.390625 32.421875 48.390625 \r\nQ 24.90625 48.390625 20.390625 44.140625 \r\nQ 15.875 39.890625 15.1875 32.171875 \r\nz\r\n\" id=\"DejaVuSans-1077\"/>\r\n       <path d=\"M 21.625 7.171875 \r\nL 47.703125 7.171875 \r\nL 47.703125 47.515625 \r\nL 28.8125 47.515625 \r\nL 28.8125 40.671875 \r\nQ 28.8125 20.5625 23.046875 9.8125 \r\nz\r\nM 8.59375 7.171875 \r\nQ 13.03125 9.125 14.984375 13.28125 \r\nQ 19.78125 23.578125 19.78125 44.34375 \r\nL 19.78125 54.6875 \r\nL 56.734375 54.6875 \r\nL 56.734375 7.171875 \r\nL 63.921875 7.171875 \r\nL 63.921875 -13.8125 \r\nL 56.734375 -13.8125 \r\nL 56.734375 0 \r\nL 12.40625 0 \r\nL 12.40625 -13.8125 \r\nL 5.21875 -13.8125 \r\nL 5.21875 7.171875 \r\nz\r\n\" id=\"DejaVuSans-1076\"/>\r\n       <path d=\"M 30.609375 48.390625 \r\nQ 23.390625 48.390625 19.1875 42.75 \r\nQ 14.984375 37.109375 14.984375 27.296875 \r\nQ 14.984375 17.484375 19.15625 11.84375 \r\nQ 23.34375 6.203125 30.609375 6.203125 \r\nQ 37.796875 6.203125 41.984375 11.859375 \r\nQ 46.1875 17.53125 46.1875 27.296875 \r\nQ 46.1875 37.015625 41.984375 42.703125 \r\nQ 37.796875 48.390625 30.609375 48.390625 \r\nz\r\nM 30.609375 56 \r\nQ 42.328125 56 49.015625 48.375 \r\nQ 55.71875 40.765625 55.71875 27.296875 \r\nQ 55.71875 13.875 49.015625 6.21875 \r\nQ 42.328125 -1.421875 30.609375 -1.421875 \r\nQ 18.84375 -1.421875 12.171875 6.21875 \r\nQ 5.515625 13.875 5.515625 27.296875 \r\nQ 5.515625 40.765625 12.171875 48.375 \r\nQ 18.84375 56 30.609375 56 \r\nz\r\n\" id=\"DejaVuSans-1086\"/>\r\n       <path d=\"M 3.71875 0 \r\nL 3.71875 7.46875 \r\nQ 12.59375 8.84375 15.328125 14.984375 \r\nQ 18.65625 23.640625 18.65625 45.75 \r\nL 18.65625 54.6875 \r\nL 55.609375 54.6875 \r\nL 55.609375 0 \r\nL 46.625 0 \r\nL 46.625 47.515625 \r\nL 27.640625 47.515625 \r\nL 27.640625 42.09375 \r\nQ 27.640625 21 23.34375 11.53125 \r\nQ 18.75 1.421875 3.71875 0 \r\nz\r\n\" id=\"DejaVuSans-1083\"/>\r\n       <path d=\"M 9.078125 0 \r\nL 9.078125 54.6875 \r\nL 47.65625 54.6875 \r\nL 47.65625 47.515625 \r\nL 18.109375 47.515625 \r\nL 18.109375 0 \r\nz\r\n\" id=\"DejaVuSans-1075\"/>\r\n       <path d=\"M 9.078125 54.6875 \r\nL 22.21875 54.6875 \r\nL 37.75 18.0625 \r\nL 53.328125 54.6875 \r\nL 66.359375 54.6875 \r\nL 66.359375 0 \r\nL 57.328125 0 \r\nL 57.328125 46.09375 \r\nL 42.234375 10.5 \r\nL 33.25 10.5 \r\nL 18.109375 46.09375 \r\nL 18.109375 0 \r\nL 9.078125 0 \r\nz\r\n\" id=\"DejaVuSans-1084\"/>\r\n       <path d=\"M 55.90625 54.6875 \r\nL 55.90625 0 \r\nL 46.96875 0 \r\nL 46.96875 43.890625 \r\nL 20.609375 0 \r\nL 9.078125 0 \r\nL 9.078125 54.6875 \r\nL 18.015625 54.6875 \r\nL 18.015625 10.890625 \r\nL 44.34375 54.6875 \r\nz\r\nM 17.234375 75.96875 \r\nL 23 75.96875 \r\nQ 23.53125 72.3125 25.890625 70.46875 \r\nQ 28.265625 68.640625 32.515625 68.640625 \r\nQ 36.71875 68.640625 39.0625 70.453125 \r\nQ 41.40625 72.265625 42.046875 75.96875 \r\nL 47.796875 75.96875 \r\nQ 47.3125 68.984375 43.453125 65.46875 \r\nQ 39.59375 61.953125 32.515625 61.953125 \r\nQ 25.4375 61.953125 21.578125 65.46875 \r\nQ 17.71875 68.984375 17.234375 75.96875 \r\nz\r\n\" id=\"DejaVuSans-1081\"/>\r\n       <path d=\"M 9.078125 54.6875 \r\nL 18.109375 54.6875 \r\nL 18.109375 32.375 \r\nL 47.265625 32.375 \r\nL 47.265625 54.6875 \r\nL 56.296875 54.6875 \r\nL 56.296875 0 \r\nL 47.265625 0 \r\nL 47.265625 25.203125 \r\nL 18.109375 25.203125 \r\nL 18.109375 0 \r\nL 9.078125 0 \r\nz\r\n\" id=\"DejaVuSans-1085\"/>\r\n       <path d=\"M 34.46875 29.5 \r\nQ 40.53125 28.328125 43.890625 24.75 \r\nQ 47.265625 21.1875 47.265625 15.921875 \r\nQ 47.265625 7.46875 40.96875 3.015625 \r\nQ 34.671875 -1.421875 23.046875 -1.421875 \r\nQ 19.140625 -1.421875 15.015625 -0.734375 \r\nQ 10.890625 -0.046875 6.5 1.3125 \r\nL 6.5 9.671875 \r\nQ 9.96875 7.859375 14.109375 6.953125 \r\nQ 18.265625 6.0625 22.796875 6.0625 \r\nQ 30.171875 6.0625 34.296875 8.796875 \r\nQ 38.421875 11.53125 38.421875 15.921875 \r\nQ 38.421875 20.21875 34.765625 22.828125 \r\nQ 31.109375 25.4375 24.421875 25.4375 \r\nL 17.1875 25.4375 \r\nL 17.1875 32.859375 \r\nL 24.75 32.859375 \r\nQ 30.421875 32.859375 33.71875 35.03125 \r\nQ 37.015625 37.203125 37.015625 40.625 \r\nQ 37.015625 43.75 33.609375 46 \r\nQ 30.21875 48.25 24.421875 48.25 \r\nQ 20.953125 48.25 17.015625 47.609375 \r\nQ 13.09375 46.96875 8.34375 45.5625 \r\nL 8.34375 53.71875 \r\nQ 13.140625 54.890625 17.28125 55.46875 \r\nQ 21.4375 56.0625 25.140625 56.0625 \r\nQ 34.71875 56.0625 40.25 52.21875 \r\nQ 45.796875 48.390625 45.796875 41.5 \r\nQ 45.796875 36.96875 42.859375 33.8125 \r\nQ 39.9375 30.671875 34.46875 29.5 \r\nz\r\n\" id=\"DejaVuSans-1079\"/>\r\n       <path d=\"M 61.078125 54.6875 \r\nL 70.0625 54.6875 \r\nL 70.0625 0 \r\nL 61.078125 0 \r\nz\r\nM 65.578125 56 \r\nz\r\nM 43.453125 16.21875 \r\nQ 43.453125 20.609375 40.25 22.90625 \r\nQ 37.0625 25.203125 30.90625 25.203125 \r\nL 18.109375 25.203125 \r\nL 18.109375 7.171875 \r\nL 30.90625 7.171875 \r\nQ 37.0625 7.171875 40.25 9.484375 \r\nQ 43.453125 11.8125 43.453125 16.21875 \r\nz\r\nM 9.078125 54.6875 \r\nL 18.109375 54.6875 \r\nL 18.109375 32.375 \r\nL 31.296875 32.375 \r\nQ 41.75 32.375 47.390625 28.390625 \r\nQ 53.03125 24.421875 53.03125 16.21875 \r\nQ 53.03125 8.015625 47.390625 4 \r\nQ 41.75 0 31.296875 0 \r\nL 9.078125 0 \r\nz\r\n\" id=\"DejaVuSans-1099\"/>\r\n       <path d=\"M 2.9375 54.6875 \r\nL 55.328125 54.6875 \r\nL 55.328125 47.515625 \r\nL 33.546875 47.515625 \r\nL 33.546875 0 \r\nL 24.703125 0 \r\nL 24.703125 47.515625 \r\nL 2.9375 47.515625 \r\nz\r\n\" id=\"DejaVuSans-1090\"/>\r\n       <path d=\"M 18.453125 38.921875 \r\nQ 18.453125 34.859375 21.578125 32.5625 \r\nQ 24.703125 30.28125 30.515625 30.28125 \r\nL 42.625 30.28125 \r\nL 42.625 47.515625 \r\nL 30.515625 47.515625 \r\nQ 24.703125 47.515625 21.578125 45.265625 \r\nQ 18.453125 43.015625 18.453125 38.921875 \r\nz\r\nM 5.671875 0 \r\nL 22.359375 23.96875 \r\nQ 16.703125 25.25 12.9375 28.59375 \r\nQ 9.1875 31.9375 9.1875 38.921875 \r\nQ 9.1875 46.828125 14.421875 50.75 \r\nQ 19.671875 54.6875 30.28125 54.6875 \r\nL 51.65625 54.6875 \r\nL 51.65625 0 \r\nL 42.625 0 \r\nL 42.625 23.09375 \r\nL 31.453125 23.09375 \r\nL 15.328125 0 \r\nz\r\n\" id=\"DejaVuSans-1103\"/>\r\n       <path d=\"M 31 75.875 \r\nQ 24.46875 64.65625 21.28125 53.65625 \r\nQ 18.109375 42.671875 18.109375 31.390625 \r\nQ 18.109375 20.125 21.3125 9.0625 \r\nQ 24.515625 -2 31 -13.1875 \r\nL 23.1875 -13.1875 \r\nQ 15.875 -1.703125 12.234375 9.375 \r\nQ 8.59375 20.453125 8.59375 31.390625 \r\nQ 8.59375 42.28125 12.203125 53.3125 \r\nQ 15.828125 64.359375 23.1875 75.875 \r\nz\r\n\" id=\"DejaVuSans-40\"/>\r\n       <path d=\"M 48.78125 52.59375 \r\nL 48.78125 44.1875 \r\nQ 44.96875 46.296875 41.140625 47.34375 \r\nQ 37.3125 48.390625 33.40625 48.390625 \r\nQ 24.65625 48.390625 19.8125 42.84375 \r\nQ 14.984375 37.3125 14.984375 27.296875 \r\nQ 14.984375 17.28125 19.8125 11.734375 \r\nQ 24.65625 6.203125 33.40625 6.203125 \r\nQ 37.3125 6.203125 41.140625 7.25 \r\nQ 44.96875 8.296875 48.78125 10.40625 \r\nL 48.78125 2.09375 \r\nQ 45.015625 0.34375 40.984375 -0.53125 \r\nQ 36.96875 -1.421875 32.421875 -1.421875 \r\nQ 20.0625 -1.421875 12.78125 6.34375 \r\nQ 5.515625 14.109375 5.515625 27.296875 \r\nQ 5.515625 40.671875 12.859375 48.328125 \r\nQ 20.21875 56 33.015625 56 \r\nQ 37.15625 56 41.109375 55.140625 \r\nQ 45.0625 54.296875 48.78125 52.59375 \r\nz\r\n\" id=\"DejaVuSans-1089\"/>\r\n       <path d=\"M 54.890625 54.6875 \r\nL 35.109375 28.078125 \r\nL 55.90625 0 \r\nL 45.3125 0 \r\nL 29.390625 21.484375 \r\nL 13.484375 0 \r\nL 2.875 0 \r\nL 24.125 28.609375 \r\nL 4.6875 54.6875 \r\nL 15.28125 54.6875 \r\nL 29.78125 35.203125 \r\nL 44.28125 54.6875 \r\nz\r\n\" id=\"DejaVuSans-1093\"/>\r\n       <path d=\"M 8.015625 75.875 \r\nL 15.828125 75.875 \r\nQ 23.140625 64.359375 26.78125 53.3125 \r\nQ 30.421875 42.28125 30.421875 31.390625 \r\nQ 30.421875 20.453125 26.78125 9.375 \r\nQ 23.140625 -1.703125 15.828125 -13.1875 \r\nL 8.015625 -13.1875 \r\nQ 14.5 -2 17.703125 9.0625 \r\nQ 20.90625 20.125 20.90625 31.390625 \r\nQ 20.90625 42.671875 17.703125 53.65625 \r\nQ 14.5 64.65625 8.015625 75.875 \r\nz\r\n\" id=\"DejaVuSans-41\"/>\r\n      </defs>\r\n      <use xlink:href=\"#DejaVuSans-1054\"/>\r\n      <use x=\"78.710938\" xlink:href=\"#DejaVuSans-1096\"/>\r\n      <use x=\"170.214844\" xlink:href=\"#DejaVuSans-1080\"/>\r\n      <use x=\"235.205078\" xlink:href=\"#DejaVuSans-1073\"/>\r\n      <use x=\"296.875\" xlink:href=\"#DejaVuSans-1082\"/>\r\n      <use x=\"357.275391\" xlink:href=\"#DejaVuSans-1072\"/>\r\n      <use x=\"418.554688\" xlink:href=\"#DejaVuSans-32\"/>\r\n      <use x=\"450.341797\" xlink:href=\"#DejaVuSans-1074\"/>\r\n      <use x=\"509.277344\" xlink:href=\"#DejaVuSans-32\"/>\r\n      <use x=\"541.064453\" xlink:href=\"#DejaVuSans-1087\"/>\r\n      <use x=\"606.445312\" xlink:href=\"#DejaVuSans-1088\"/>\r\n      <use x=\"669.921875\" xlink:href=\"#DejaVuSans-1077\"/>\r\n      <use x=\"731.445312\" xlink:href=\"#DejaVuSans-1076\"/>\r\n      <use x=\"800.585938\" xlink:href=\"#DejaVuSans-1087\"/>\r\n      <use x=\"865.966797\" xlink:href=\"#DejaVuSans-1086\"/>\r\n      <use x=\"927.148438\" xlink:href=\"#DejaVuSans-1083\"/>\r\n      <use x=\"991.064453\" xlink:href=\"#DejaVuSans-1072\"/>\r\n      <use x=\"1052.34375\" xlink:href=\"#DejaVuSans-1075\"/>\r\n      <use x=\"1104.882812\" xlink:href=\"#DejaVuSans-1072\"/>\r\n      <use x=\"1166.162109\" xlink:href=\"#DejaVuSans-1077\"/>\r\n      <use x=\"1227.685547\" xlink:href=\"#DejaVuSans-1084\"/>\r\n      <use x=\"1303.125\" xlink:href=\"#DejaVuSans-1086\"/>\r\n      <use x=\"1364.306641\" xlink:href=\"#DejaVuSans-1081\"/>\r\n      <use x=\"1429.296875\" xlink:href=\"#DejaVuSans-32\"/>\r\n      <use x=\"1461.083984\" xlink:href=\"#DejaVuSans-1076\"/>\r\n      <use x=\"1530.224609\" xlink:href=\"#DejaVuSans-1083\"/>\r\n      <use x=\"1594.140625\" xlink:href=\"#DejaVuSans-1080\"/>\r\n      <use x=\"1659.130859\" xlink:href=\"#DejaVuSans-1085\"/>\r\n      <use x=\"1724.511719\" xlink:href=\"#DejaVuSans-1077\"/>\r\n      <use x=\"1786.035156\" xlink:href=\"#DejaVuSans-32\"/>\r\n      <use x=\"1817.822266\" xlink:href=\"#DejaVuSans-1088\"/>\r\n      <use x=\"1881.298828\" xlink:href=\"#DejaVuSans-1072\"/>\r\n      <use x=\"1942.578125\" xlink:href=\"#DejaVuSans-1079\"/>\r\n      <use x=\"1995.751953\" xlink:href=\"#DejaVuSans-1084\"/>\r\n      <use x=\"2071.191406\" xlink:href=\"#DejaVuSans-1099\"/>\r\n      <use x=\"2150.146484\" xlink:href=\"#DejaVuSans-1090\"/>\r\n      <use x=\"2208.398438\" xlink:href=\"#DejaVuSans-1080\"/>\r\n      <use x=\"2273.388672\" xlink:href=\"#DejaVuSans-1103\"/>\r\n      <use x=\"2333.544922\" xlink:href=\"#DejaVuSans-32\"/>\r\n      <use x=\"2365.332031\" xlink:href=\"#DejaVuSans-40\"/>\r\n      <use x=\"2404.345703\" xlink:href=\"#DejaVuSans-1074\"/>\r\n      <use x=\"2463.28125\" xlink:href=\"#DejaVuSans-32\"/>\r\n      <use x=\"2495.068359\" xlink:href=\"#DejaVuSans-1087\"/>\r\n      <use x=\"2560.449219\" xlink:href=\"#DejaVuSans-1080\"/>\r\n      <use x=\"2625.439453\" xlink:href=\"#DejaVuSans-1082\"/>\r\n      <use x=\"2685.839844\" xlink:href=\"#DejaVuSans-1089\"/>\r\n      <use x=\"2740.820312\" xlink:href=\"#DejaVuSans-1077\"/>\r\n      <use x=\"2802.34375\" xlink:href=\"#DejaVuSans-1083\"/>\r\n      <use x=\"2866.259766\" xlink:href=\"#DejaVuSans-1103\"/>\r\n      <use x=\"2926.416016\" xlink:href=\"#DejaVuSans-1093\"/>\r\n      <use x=\"2985.595703\" xlink:href=\"#DejaVuSans-41\"/>\r\n     </g>\r\n    </g>\r\n   </g>\r\n   <g id=\"matplotlib.axis_2\">\r\n    <g id=\"ytick_1\">\r\n     <g id=\"line2d_7\">\r\n      <defs>\r\n       <path d=\"M 0 0 \r\nL -3.5 0 \r\n\" id=\"m70762065cb\" style=\"stroke:#000000;stroke-width:0.8;\"/>\r\n      </defs>\r\n      <g>\r\n       <use style=\"stroke:#000000;stroke-width:0.8;\" x=\"40.603125\" xlink:href=\"#m70762065cb\" y=\"250.776365\"/>\r\n      </g>\r\n     </g>\r\n     <g id=\"text_8\">\r\n      <!-- 24 -->\r\n      <g transform=\"translate(20.878125 254.575584)scale(0.1 -0.1)\">\r\n       <use xlink:href=\"#DejaVuSans-50\"/>\r\n       <use x=\"63.623047\" xlink:href=\"#DejaVuSans-52\"/>\r\n      </g>\r\n     </g>\r\n    </g>\r\n    <g id=\"ytick_2\">\r\n     <g id=\"line2d_8\">\r\n      <g>\r\n       <use style=\"stroke:#000000;stroke-width:0.8;\" x=\"40.603125\" xlink:href=\"#m70762065cb\" y=\"202.820936\"/>\r\n      </g>\r\n     </g>\r\n     <g id=\"text_9\">\r\n      <!-- 26 -->\r\n      <g transform=\"translate(20.878125 206.620155)scale(0.1 -0.1)\">\r\n       <use xlink:href=\"#DejaVuSans-50\"/>\r\n       <use x=\"63.623047\" xlink:href=\"#DejaVuSans-54\"/>\r\n      </g>\r\n     </g>\r\n    </g>\r\n    <g id=\"ytick_3\">\r\n     <g id=\"line2d_9\">\r\n      <g>\r\n       <use style=\"stroke:#000000;stroke-width:0.8;\" x=\"40.603125\" xlink:href=\"#m70762065cb\" y=\"154.865507\"/>\r\n      </g>\r\n     </g>\r\n     <g id=\"text_10\">\r\n      <!-- 28 -->\r\n      <g transform=\"translate(20.878125 158.664725)scale(0.1 -0.1)\">\r\n       <defs>\r\n        <path d=\"M 31.78125 34.625 \r\nQ 24.75 34.625 20.71875 30.859375 \r\nQ 16.703125 27.09375 16.703125 20.515625 \r\nQ 16.703125 13.921875 20.71875 10.15625 \r\nQ 24.75 6.390625 31.78125 6.390625 \r\nQ 38.8125 6.390625 42.859375 10.171875 \r\nQ 46.921875 13.96875 46.921875 20.515625 \r\nQ 46.921875 27.09375 42.890625 30.859375 \r\nQ 38.875 34.625 31.78125 34.625 \r\nz\r\nM 21.921875 38.8125 \r\nQ 15.578125 40.375 12.03125 44.71875 \r\nQ 8.5 49.078125 8.5 55.328125 \r\nQ 8.5 64.0625 14.71875 69.140625 \r\nQ 20.953125 74.21875 31.78125 74.21875 \r\nQ 42.671875 74.21875 48.875 69.140625 \r\nQ 55.078125 64.0625 55.078125 55.328125 \r\nQ 55.078125 49.078125 51.53125 44.71875 \r\nQ 48 40.375 41.703125 38.8125 \r\nQ 48.828125 37.15625 52.796875 32.3125 \r\nQ 56.78125 27.484375 56.78125 20.515625 \r\nQ 56.78125 9.90625 50.3125 4.234375 \r\nQ 43.84375 -1.421875 31.78125 -1.421875 \r\nQ 19.734375 -1.421875 13.25 4.234375 \r\nQ 6.78125 9.90625 6.78125 20.515625 \r\nQ 6.78125 27.484375 10.78125 32.3125 \r\nQ 14.796875 37.15625 21.921875 38.8125 \r\nz\r\nM 18.3125 54.390625 \r\nQ 18.3125 48.734375 21.84375 45.5625 \r\nQ 25.390625 42.390625 31.78125 42.390625 \r\nQ 38.140625 42.390625 41.71875 45.5625 \r\nQ 45.3125 48.734375 45.3125 54.390625 \r\nQ 45.3125 60.0625 41.71875 63.234375 \r\nQ 38.140625 66.40625 31.78125 66.40625 \r\nQ 25.390625 66.40625 21.84375 63.234375 \r\nQ 18.3125 60.0625 18.3125 54.390625 \r\nz\r\n\" id=\"DejaVuSans-56\"/>\r\n       </defs>\r\n       <use xlink:href=\"#DejaVuSans-50\"/>\r\n       <use x=\"63.623047\" xlink:href=\"#DejaVuSans-56\"/>\r\n      </g>\r\n     </g>\r\n    </g>\r\n    <g id=\"ytick_4\">\r\n     <g id=\"line2d_10\">\r\n      <g>\r\n       <use style=\"stroke:#000000;stroke-width:0.8;\" x=\"40.603125\" xlink:href=\"#m70762065cb\" y=\"106.910077\"/>\r\n      </g>\r\n     </g>\r\n     <g id=\"text_11\">\r\n      <!-- 30 -->\r\n      <g transform=\"translate(20.878125 110.709296)scale(0.1 -0.1)\">\r\n       <defs>\r\n        <path d=\"M 40.578125 39.3125 \r\nQ 47.65625 37.796875 51.625 33 \r\nQ 55.609375 28.21875 55.609375 21.1875 \r\nQ 55.609375 10.40625 48.1875 4.484375 \r\nQ 40.765625 -1.421875 27.09375 -1.421875 \r\nQ 22.515625 -1.421875 17.65625 -0.515625 \r\nQ 12.796875 0.390625 7.625 2.203125 \r\nL 7.625 11.71875 \r\nQ 11.71875 9.328125 16.59375 8.109375 \r\nQ 21.484375 6.890625 26.8125 6.890625 \r\nQ 36.078125 6.890625 40.9375 10.546875 \r\nQ 45.796875 14.203125 45.796875 21.1875 \r\nQ 45.796875 27.640625 41.28125 31.265625 \r\nQ 36.765625 34.90625 28.71875 34.90625 \r\nL 20.21875 34.90625 \r\nL 20.21875 43.015625 \r\nL 29.109375 43.015625 \r\nQ 36.375 43.015625 40.234375 45.921875 \r\nQ 44.09375 48.828125 44.09375 54.296875 \r\nQ 44.09375 59.90625 40.109375 62.90625 \r\nQ 36.140625 65.921875 28.71875 65.921875 \r\nQ 24.65625 65.921875 20.015625 65.03125 \r\nQ 15.375 64.15625 9.8125 62.3125 \r\nL 9.8125 71.09375 \r\nQ 15.4375 72.65625 20.34375 73.4375 \r\nQ 25.25 74.21875 29.59375 74.21875 \r\nQ 40.828125 74.21875 47.359375 69.109375 \r\nQ 53.90625 64.015625 53.90625 55.328125 \r\nQ 53.90625 49.265625 50.4375 45.09375 \r\nQ 46.96875 40.921875 40.578125 39.3125 \r\nz\r\n\" id=\"DejaVuSans-51\"/>\r\n       </defs>\r\n       <use xlink:href=\"#DejaVuSans-51\"/>\r\n       <use x=\"63.623047\" xlink:href=\"#DejaVuSans-48\"/>\r\n      </g>\r\n     </g>\r\n    </g>\r\n    <g id=\"ytick_5\">\r\n     <g id=\"line2d_11\">\r\n      <g>\r\n       <use style=\"stroke:#000000;stroke-width:0.8;\" x=\"40.603125\" xlink:href=\"#m70762065cb\" y=\"58.954648\"/>\r\n      </g>\r\n     </g>\r\n     <g id=\"text_12\">\r\n      <!-- 32 -->\r\n      <g transform=\"translate(20.878125 62.753867)scale(0.1 -0.1)\">\r\n       <use xlink:href=\"#DejaVuSans-51\"/>\r\n       <use x=\"63.623047\" xlink:href=\"#DejaVuSans-50\"/>\r\n      </g>\r\n     </g>\r\n    </g>\r\n    <g id=\"ytick_6\">\r\n     <g id=\"line2d_12\">\r\n      <g>\r\n       <use style=\"stroke:#000000;stroke-width:0.8;\" x=\"40.603125\" xlink:href=\"#m70762065cb\" y=\"10.999219\"/>\r\n      </g>\r\n     </g>\r\n     <g id=\"text_13\">\r\n      <!-- 34 -->\r\n      <g transform=\"translate(20.878125 14.798437)scale(0.1 -0.1)\">\r\n       <use xlink:href=\"#DejaVuSans-51\"/>\r\n       <use x=\"63.623047\" xlink:href=\"#DejaVuSans-52\"/>\r\n      </g>\r\n     </g>\r\n    </g>\r\n    <g id=\"text_14\">\r\n     <!-- PSNR -->\r\n     <g transform=\"translate(14.798438 145.72373)rotate(-90)scale(0.1 -0.1)\">\r\n      <defs>\r\n       <path d=\"M 19.671875 64.796875 \r\nL 19.671875 37.40625 \r\nL 32.078125 37.40625 \r\nQ 38.96875 37.40625 42.71875 40.96875 \r\nQ 46.484375 44.53125 46.484375 51.125 \r\nQ 46.484375 57.671875 42.71875 61.234375 \r\nQ 38.96875 64.796875 32.078125 64.796875 \r\nz\r\nM 9.8125 72.90625 \r\nL 32.078125 72.90625 \r\nQ 44.34375 72.90625 50.609375 67.359375 \r\nQ 56.890625 61.8125 56.890625 51.125 \r\nQ 56.890625 40.328125 50.609375 34.8125 \r\nQ 44.34375 29.296875 32.078125 29.296875 \r\nL 19.671875 29.296875 \r\nL 19.671875 0 \r\nL 9.8125 0 \r\nz\r\n\" id=\"DejaVuSans-80\"/>\r\n       <path d=\"M 53.515625 70.515625 \r\nL 53.515625 60.890625 \r\nQ 47.90625 63.578125 42.921875 64.890625 \r\nQ 37.9375 66.21875 33.296875 66.21875 \r\nQ 25.25 66.21875 20.875 63.09375 \r\nQ 16.5 59.96875 16.5 54.203125 \r\nQ 16.5 49.359375 19.40625 46.890625 \r\nQ 22.3125 44.4375 30.421875 42.921875 \r\nL 36.375 41.703125 \r\nQ 47.40625 39.59375 52.65625 34.296875 \r\nQ 57.90625 29 57.90625 20.125 \r\nQ 57.90625 9.515625 50.796875 4.046875 \r\nQ 43.703125 -1.421875 29.984375 -1.421875 \r\nQ 24.8125 -1.421875 18.96875 -0.25 \r\nQ 13.140625 0.921875 6.890625 3.21875 \r\nL 6.890625 13.375 \r\nQ 12.890625 10.015625 18.65625 8.296875 \r\nQ 24.421875 6.59375 29.984375 6.59375 \r\nQ 38.421875 6.59375 43.015625 9.90625 \r\nQ 47.609375 13.234375 47.609375 19.390625 \r\nQ 47.609375 24.75 44.3125 27.78125 \r\nQ 41.015625 30.8125 33.5 32.328125 \r\nL 27.484375 33.5 \r\nQ 16.453125 35.6875 11.515625 40.375 \r\nQ 6.59375 45.0625 6.59375 53.421875 \r\nQ 6.59375 63.09375 13.40625 68.65625 \r\nQ 20.21875 74.21875 32.171875 74.21875 \r\nQ 37.3125 74.21875 42.625 73.28125 \r\nQ 47.953125 72.359375 53.515625 70.515625 \r\nz\r\n\" id=\"DejaVuSans-83\"/>\r\n       <path d=\"M 9.8125 72.90625 \r\nL 23.09375 72.90625 \r\nL 55.421875 11.921875 \r\nL 55.421875 72.90625 \r\nL 64.984375 72.90625 \r\nL 64.984375 0 \r\nL 51.703125 0 \r\nL 19.390625 60.984375 \r\nL 19.390625 0 \r\nL 9.8125 0 \r\nz\r\n\" id=\"DejaVuSans-78\"/>\r\n       <path d=\"M 44.390625 34.1875 \r\nQ 47.5625 33.109375 50.5625 29.59375 \r\nQ 53.5625 26.078125 56.59375 19.921875 \r\nL 66.609375 0 \r\nL 56 0 \r\nL 46.6875 18.703125 \r\nQ 43.0625 26.03125 39.671875 28.421875 \r\nQ 36.28125 30.8125 30.421875 30.8125 \r\nL 19.671875 30.8125 \r\nL 19.671875 0 \r\nL 9.8125 0 \r\nL 9.8125 72.90625 \r\nL 32.078125 72.90625 \r\nQ 44.578125 72.90625 50.734375 67.671875 \r\nQ 56.890625 62.453125 56.890625 51.90625 \r\nQ 56.890625 45.015625 53.6875 40.46875 \r\nQ 50.484375 35.9375 44.390625 34.1875 \r\nz\r\nM 19.671875 64.796875 \r\nL 19.671875 38.921875 \r\nL 32.078125 38.921875 \r\nQ 39.203125 38.921875 42.84375 42.21875 \r\nQ 46.484375 45.515625 46.484375 51.90625 \r\nQ 46.484375 58.296875 42.84375 61.546875 \r\nQ 39.203125 64.796875 32.078125 64.796875 \r\nz\r\n\" id=\"DejaVuSans-82\"/>\r\n      </defs>\r\n      <use xlink:href=\"#DejaVuSans-80\"/>\r\n      <use x=\"60.302734\" xlink:href=\"#DejaVuSans-83\"/>\r\n      <use x=\"123.779297\" xlink:href=\"#DejaVuSans-78\"/>\r\n      <use x=\"198.583984\" xlink:href=\"#DejaVuSans-82\"/>\r\n     </g>\r\n    </g>\r\n   </g>\r\n   <g id=\"line2d_13\">\r\n    <path clip-path=\"url(#p74eeffabf9)\" d=\"M 53.284943 112.176236 \r\nL 104.012216 94.059387 \r\nL 154.739489 20.005774 \r\nL 205.466761 99.877871 \r\nL 256.194034 188.065747 \r\nL 306.921307 244.633873 \r\n\" style=\"fill:none;stroke:#1f77b4;stroke-linecap:square;stroke-opacity:0.6;stroke-width:2;\"/>\r\n   </g>\r\n   <g id=\"line2d_14\">\r\n    <path clip-path=\"url(#p74eeffabf9)\" d=\"M 53.284943 90.018907 \r\nL 104.012216 90.018907 \r\nL 154.739489 56.42009 \r\nL 205.466761 96.047417 \r\nL 256.194034 126.589736 \r\n\" style=\"fill:none;stroke:#ff7f0e;stroke-linecap:square;stroke-opacity:0.6;stroke-width:2;\"/>\r\n   </g>\r\n   <g id=\"patch_3\">\r\n    <path d=\"M 40.603125 255.865278 \r\nL 40.603125 8.774369 \r\n\" style=\"fill:none;stroke:#000000;stroke-linecap:square;stroke-linejoin:miter;stroke-width:0.8;\"/>\r\n   </g>\r\n   <g id=\"patch_4\">\r\n    <path d=\"M 319.603125 255.865278 \r\nL 319.603125 8.774369 \r\n\" style=\"fill:none;stroke:#000000;stroke-linecap:square;stroke-linejoin:miter;stroke-width:0.8;\"/>\r\n   </g>\r\n   <g id=\"patch_5\">\r\n    <path d=\"M 40.603125 255.865278 \r\nL 319.603125 255.865278 \r\n\" style=\"fill:none;stroke:#000000;stroke-linecap:square;stroke-linejoin:miter;stroke-width:0.8;\"/>\r\n   </g>\r\n   <g id=\"patch_6\">\r\n    <path d=\"M 40.603125 8.774369 \r\nL 319.603125 8.774369 \r\n\" style=\"fill:none;stroke:#000000;stroke-linecap:square;stroke-linejoin:miter;stroke-width:0.8;\"/>\r\n   </g>\r\n   <g id=\"legend_1\">\r\n    <g id=\"patch_7\">\r\n     <path d=\"M 47.603125 250.865278 \r\nL 289.432812 250.865278 \r\nQ 291.432812 250.865278 291.432812 248.865278 \r\nL 291.432812 220.338716 \r\nQ 291.432812 218.338716 289.432812 218.338716 \r\nL 47.603125 218.338716 \r\nQ 45.603125 218.338716 45.603125 220.338716 \r\nL 45.603125 248.865278 \r\nQ 45.603125 250.865278 47.603125 250.865278 \r\nz\r\n\" style=\"fill:#ffffff;opacity:0.8;stroke:#cccccc;stroke-linejoin:miter;\"/>\r\n    </g>\r\n    <g id=\"line2d_15\">\r\n     <path d=\"M 49.603125 226.607466 \r\nL 69.603125 226.607466 \r\n\" style=\"fill:none;stroke:#1f77b4;stroke-linecap:square;stroke-opacity:0.6;stroke-width:2;\"/>\r\n    </g>\r\n    <g id=\"line2d_16\"/>\r\n    <g id=\"text_15\">\r\n     <!-- Восстановленные обращением свёртки -->\r\n     <g transform=\"translate(77.603125 230.107466)scale(0.1 -0.1)\">\r\n      <defs>\r\n       <path d=\"M 19.671875 34.8125 \r\nL 19.671875 8.109375 \r\nL 35.5 8.109375 \r\nQ 43.453125 8.109375 47.28125 11.40625 \r\nQ 51.125 14.703125 51.125 21.484375 \r\nQ 51.125 28.328125 47.28125 31.5625 \r\nQ 43.453125 34.8125 35.5 34.8125 \r\nz\r\nM 19.671875 64.796875 \r\nL 19.671875 42.828125 \r\nL 34.28125 42.828125 \r\nQ 41.5 42.828125 45.03125 45.53125 \r\nQ 48.578125 48.25 48.578125 53.8125 \r\nQ 48.578125 59.328125 45.03125 62.0625 \r\nQ 41.5 64.796875 34.28125 64.796875 \r\nz\r\nM 9.8125 72.90625 \r\nL 35.015625 72.90625 \r\nQ 46.296875 72.90625 52.390625 68.21875 \r\nQ 58.5 63.53125 58.5 54.890625 \r\nQ 58.5 48.1875 55.375 44.234375 \r\nQ 52.25 40.28125 46.1875 39.3125 \r\nQ 53.46875 37.75 57.5 32.78125 \r\nQ 61.53125 27.828125 61.53125 20.40625 \r\nQ 61.53125 10.640625 54.890625 5.3125 \r\nQ 48.25 0 35.984375 0 \r\nL 9.8125 0 \r\nz\r\n\" id=\"DejaVuSans-1042\"/>\r\n       <path d=\"M 82.421875 0 \r\nL 9.078125 0 \r\nL 9.078125 54.6875 \r\nL 18.109375 54.6875 \r\nL 18.109375 7.171875 \r\nL 41.21875 7.171875 \r\nL 41.21875 54.6875 \r\nL 50.25 54.6875 \r\nL 50.25 7.171875 \r\nL 73.390625 7.171875 \r\nL 73.390625 54.6875 \r\nL 82.421875 54.6875 \r\nL 82.421875 7.171875 \r\nL 89.59375 7.171875 \r\nL 89.59375 -13.8125 \r\nL 82.421875 -13.8125 \r\nz\r\n\" id=\"DejaVuSans-1097\"/>\r\n       <path d=\"M 56.203125 29.59375 \r\nL 56.203125 25.203125 \r\nL 14.890625 25.203125 \r\nQ 15.484375 15.921875 20.484375 11.0625 \r\nQ 25.484375 6.203125 34.421875 6.203125 \r\nQ 39.59375 6.203125 44.453125 7.46875 \r\nQ 49.3125 8.734375 54.109375 11.28125 \r\nL 54.109375 2.78125 \r\nQ 49.265625 0.734375 44.1875 -0.34375 \r\nQ 39.109375 -1.421875 33.890625 -1.421875 \r\nQ 20.796875 -1.421875 13.15625 6.1875 \r\nQ 5.515625 13.8125 5.515625 26.8125 \r\nQ 5.515625 40.234375 12.765625 48.109375 \r\nQ 20.015625 56 32.328125 56 \r\nQ 43.359375 56 49.78125 48.890625 \r\nQ 56.203125 41.796875 56.203125 29.59375 \r\nz\r\nM 47.21875 32.234375 \r\nQ 47.125 39.59375 43.09375 43.984375 \r\nQ 39.0625 48.390625 32.421875 48.390625 \r\nQ 24.90625 48.390625 20.390625 44.140625 \r\nQ 15.875 39.890625 15.1875 32.171875 \r\nz\r\nM 36.921875 75.78125 \r\nL 46.828125 75.78125 \r\nL 46.828125 65.921875 \r\nL 36.921875 65.921875 \r\nz\r\nM 17.828125 75.78125 \r\nL 27.734375 75.78125 \r\nL 27.734375 65.921875 \r\nL 17.828125 65.921875 \r\nz\r\n\" id=\"DejaVuSans-1105\"/>\r\n      </defs>\r\n      <use xlink:href=\"#DejaVuSans-1042\"/>\r\n      <use x=\"68.603516\" xlink:href=\"#DejaVuSans-1086\"/>\r\n      <use x=\"129.785156\" xlink:href=\"#DejaVuSans-1089\"/>\r\n      <use x=\"184.765625\" xlink:href=\"#DejaVuSans-1089\"/>\r\n      <use x=\"239.746094\" xlink:href=\"#DejaVuSans-1090\"/>\r\n      <use x=\"297.998047\" xlink:href=\"#DejaVuSans-1072\"/>\r\n      <use x=\"359.277344\" xlink:href=\"#DejaVuSans-1085\"/>\r\n      <use x=\"424.658203\" xlink:href=\"#DejaVuSans-1086\"/>\r\n      <use x=\"485.839844\" xlink:href=\"#DejaVuSans-1074\"/>\r\n      <use x=\"544.775391\" xlink:href=\"#DejaVuSans-1083\"/>\r\n      <use x=\"608.691406\" xlink:href=\"#DejaVuSans-1077\"/>\r\n      <use x=\"670.214844\" xlink:href=\"#DejaVuSans-1085\"/>\r\n      <use x=\"735.595703\" xlink:href=\"#DejaVuSans-1085\"/>\r\n      <use x=\"800.976562\" xlink:href=\"#DejaVuSans-1099\"/>\r\n      <use x=\"879.931641\" xlink:href=\"#DejaVuSans-1077\"/>\r\n      <use x=\"941.455078\" xlink:href=\"#DejaVuSans-32\"/>\r\n      <use x=\"973.242188\" xlink:href=\"#DejaVuSans-1086\"/>\r\n      <use x=\"1034.423828\" xlink:href=\"#DejaVuSans-1073\"/>\r\n      <use x=\"1096.09375\" xlink:href=\"#DejaVuSans-1088\"/>\r\n      <use x=\"1159.570312\" xlink:href=\"#DejaVuSans-1072\"/>\r\n      <use x=\"1220.849609\" xlink:href=\"#DejaVuSans-1097\"/>\r\n      <use x=\"1315.039062\" xlink:href=\"#DejaVuSans-1077\"/>\r\n      <use x=\"1376.5625\" xlink:href=\"#DejaVuSans-1085\"/>\r\n      <use x=\"1441.943359\" xlink:href=\"#DejaVuSans-1080\"/>\r\n      <use x=\"1506.933594\" xlink:href=\"#DejaVuSans-1077\"/>\r\n      <use x=\"1568.457031\" xlink:href=\"#DejaVuSans-1084\"/>\r\n      <use x=\"1643.896484\" xlink:href=\"#DejaVuSans-32\"/>\r\n      <use x=\"1675.683594\" xlink:href=\"#DejaVuSans-1089\"/>\r\n      <use x=\"1730.664062\" xlink:href=\"#DejaVuSans-1074\"/>\r\n      <use x=\"1789.599609\" xlink:href=\"#DejaVuSans-1105\"/>\r\n      <use x=\"1851.123047\" xlink:href=\"#DejaVuSans-1088\"/>\r\n      <use x=\"1914.599609\" xlink:href=\"#DejaVuSans-1090\"/>\r\n      <use x=\"1972.851562\" xlink:href=\"#DejaVuSans-1082\"/>\r\n      <use x=\"2033.251953\" xlink:href=\"#DejaVuSans-1080\"/>\r\n     </g>\r\n    </g>\r\n    <g id=\"line2d_17\">\r\n     <path d=\"M 49.603125 241.285591 \r\nL 69.603125 241.285591 \r\n\" style=\"fill:none;stroke:#ff7f0e;stroke-linecap:square;stroke-opacity:0.6;stroke-width:2;\"/>\r\n    </g>\r\n    <g id=\"line2d_18\"/>\r\n    <g id=\"text_16\">\r\n     <!-- Восстановленные нейронной сетью -->\r\n     <g transform=\"translate(77.603125 244.785591)scale(0.1 -0.1)\">\r\n      <defs>\r\n       <path d=\"M 43.453125 16.21875 \r\nQ 43.453125 20.609375 40.25 22.90625 \r\nQ 37.0625 25.203125 30.90625 25.203125 \r\nL 18.109375 25.203125 \r\nL 18.109375 7.171875 \r\nL 30.90625 7.171875 \r\nQ 37.0625 7.171875 40.25 9.484375 \r\nQ 43.453125 11.8125 43.453125 16.21875 \r\nz\r\nM 9.078125 54.6875 \r\nL 18.109375 54.6875 \r\nL 18.109375 32.375 \r\nL 31.296875 32.375 \r\nQ 41.75 32.375 47.390625 28.390625 \r\nQ 53.03125 24.421875 53.03125 16.21875 \r\nQ 53.03125 8.015625 47.390625 4 \r\nQ 41.75 0 31.296875 0 \r\nL 9.078125 0 \r\nz\r\n\" id=\"DejaVuSans-1100\"/>\r\n       <path d=\"M 53.609375 48.390625 \r\nQ 46.390625 48.390625 42.1875 42.75 \r\nQ 37.984375 37.109375 37.984375 27.296875 \r\nQ 37.984375 17.484375 42.15625 11.84375 \r\nQ 46.34375 6.203125 53.609375 6.203125 \r\nQ 60.796875 6.203125 64.984375 11.859375 \r\nQ 69.1875 17.53125 69.1875 27.296875 \r\nQ 69.1875 37.015625 64.984375 42.703125 \r\nQ 60.796875 48.390625 53.609375 48.390625 \r\nz\r\nM 28.8125 32.859375 \r\nQ 29.734375 42.140625 35.8125 49.0625 \r\nQ 41.890625 56 53.609375 56 \r\nQ 65.328125 56 72.015625 48.375 \r\nQ 78.71875 40.765625 78.71875 27.296875 \r\nQ 78.71875 13.875 72.015625 6.21875 \r\nQ 65.328125 -1.421875 53.609375 -1.421875 \r\nQ 41.84375 -1.421875 35.421875 5.953125 \r\nQ 29 13.328125 28.5625 25.4375 \r\nL 18.40625 25.4375 \r\nL 18.40625 0 \r\nL 9.421875 0 \r\nL 9.421875 54.6875 \r\nL 18.40625 54.6875 \r\nL 18.40625 32.859375 \r\nz\r\n\" id=\"DejaVuSans-1102\"/>\r\n      </defs>\r\n      <use xlink:href=\"#DejaVuSans-1042\"/>\r\n      <use x=\"68.603516\" xlink:href=\"#DejaVuSans-1086\"/>\r\n      <use x=\"129.785156\" xlink:href=\"#DejaVuSans-1089\"/>\r\n      <use x=\"184.765625\" xlink:href=\"#DejaVuSans-1089\"/>\r\n      <use x=\"239.746094\" xlink:href=\"#DejaVuSans-1090\"/>\r\n      <use x=\"297.998047\" xlink:href=\"#DejaVuSans-1072\"/>\r\n      <use x=\"359.277344\" xlink:href=\"#DejaVuSans-1085\"/>\r\n      <use x=\"424.658203\" xlink:href=\"#DejaVuSans-1086\"/>\r\n      <use x=\"485.839844\" xlink:href=\"#DejaVuSans-1074\"/>\r\n      <use x=\"544.775391\" xlink:href=\"#DejaVuSans-1083\"/>\r\n      <use x=\"608.691406\" xlink:href=\"#DejaVuSans-1077\"/>\r\n      <use x=\"670.214844\" xlink:href=\"#DejaVuSans-1085\"/>\r\n      <use x=\"735.595703\" xlink:href=\"#DejaVuSans-1085\"/>\r\n      <use x=\"800.976562\" xlink:href=\"#DejaVuSans-1099\"/>\r\n      <use x=\"879.931641\" xlink:href=\"#DejaVuSans-1077\"/>\r\n      <use x=\"941.455078\" xlink:href=\"#DejaVuSans-32\"/>\r\n      <use x=\"973.242188\" xlink:href=\"#DejaVuSans-1085\"/>\r\n      <use x=\"1038.623047\" xlink:href=\"#DejaVuSans-1077\"/>\r\n      <use x=\"1100.146484\" xlink:href=\"#DejaVuSans-1081\"/>\r\n      <use x=\"1165.136719\" xlink:href=\"#DejaVuSans-1088\"/>\r\n      <use x=\"1228.613281\" xlink:href=\"#DejaVuSans-1086\"/>\r\n      <use x=\"1289.794922\" xlink:href=\"#DejaVuSans-1085\"/>\r\n      <use x=\"1355.175781\" xlink:href=\"#DejaVuSans-1085\"/>\r\n      <use x=\"1420.556641\" xlink:href=\"#DejaVuSans-1086\"/>\r\n      <use x=\"1481.738281\" xlink:href=\"#DejaVuSans-1081\"/>\r\n      <use x=\"1546.728516\" xlink:href=\"#DejaVuSans-32\"/>\r\n      <use x=\"1578.515625\" xlink:href=\"#DejaVuSans-1089\"/>\r\n      <use x=\"1633.496094\" xlink:href=\"#DejaVuSans-1077\"/>\r\n      <use x=\"1695.019531\" xlink:href=\"#DejaVuSans-1090\"/>\r\n      <use x=\"1753.271484\" xlink:href=\"#DejaVuSans-1100\"/>\r\n      <use x=\"1812.207031\" xlink:href=\"#DejaVuSans-1102\"/>\r\n     </g>\r\n    </g>\r\n   </g>\r\n  </g>\r\n </g>\r\n <defs>\r\n  <clipPath id=\"p74eeffabf9\">\r\n   <rect height=\"247.090909\" width=\"279\" x=\"40.603125\" y=\"8.774369\"/>\r\n  </clipPath>\r\n </defs>\r\n</svg>\r\n",
      "image/png": "[encoded data removed]"
     },
     "metadata": {
      "needs_background": "light"
     }
    }
   ],
   "source": [
    "fig = plt.figure(figsize=(5,10))\n",
    "ax1 = fig.add_subplot(2, 1, 1)\n",
    "lines = []\n",
    "metric = 'PSNR'\n",
    "# metric = 'SSIM'\n",
    "# for num, cur_len in enumerate(dec_keys):\n",
    "\n",
    "# line_dec,  = ax1.plot([int(a) for a in dec_keys], [v[metric]  for v in dec_values],  lw=2, alpha=0.6)\n",
    "# line_nn,  = ax1.plot([int(a) for a in nn_keys],  [v[metric] for v in nn_values],    lw=2, alpha=0.6)\n",
    "\n",
    "line_dec,  = ax1.plot([a for a in dec_keys], [v[metric]   for v in dec_values],  lw=2, alpha=0.6)\n",
    "line_nn,  = ax1.plot([a for a in nn_keys],  [v[metric] for v in nn_values],    lw=2, alpha=0.6)\n",
    "\n",
    "lines.append(line_dec)\n",
    "lines.append(line_nn)\n",
    "\n",
    "ax1.legend(lines, ['Восстановленные обращением свёртки', 'Восстановленные нейронной сетью'])\n",
    "\n",
    "# ax1.set_title('Метрики при разной ошибке (при зафиксированной длине размытия в ' + str(dec_keys[num])+ ')')\n",
    "# ax1.set_xlabel('Ошибка в предполагаемом угле размытия (в градусах)')\n",
    "ax1.set_xlabel('Ошибка в предполагаемой длине размытия (в пикселях)')\n",
    "# ax1.set_xlabel('Уровень шума (значение отклонения)')\n",
    "ax1.set_ylabel(metric)\n",
    "\n",
    "# plt.savefig(os.path.join('.', os.path.join(save_dir_plots, metric )))\n",
    "# plt.savefig(os.path.join('.', os.path.join(save_dir_plots,metric + '_a')))\n",
    "plt.savefig(os.path.join('.', os.path.join(save_dir_plots,metric + '_l')))\n",
    "# plt.savefig(os.path.join('.', os.path.join(save_dir_plots,metric + '_n')))\n",
    "# plt.savefig(metric + '_a')\n",
    "# plt.cla()"
   ]
  },
  {
   "cell_type": "code",
   "execution_count": 23,
   "metadata": {},
   "outputs": [
    {
     "output_type": "execute_result",
     "data": {
      "text/plain": [
       "'MyStuff/results/dates/05_14/plots'"
      ]
     },
     "metadata": {},
     "execution_count": 23
    }
   ],
   "source": [
    "save_dir_plots"
   ]
  },
  {
   "cell_type": "code",
   "execution_count": 30,
   "metadata": {},
   "outputs": [],
   "source": [
    "dg  = prepare_img1(plt.imread(\"23\\\\dgan2.png\"))\n",
    "djin = prepare_img1(plt.imread(\"23\\\\jin.png\"))\n",
    "srn = prepare_img1(plt.imread(\"23\\\\srn.png\"))\n",
    "pn= prepare_img1(plt.imread(\"C3\\\\jpanpng\"))\n",
    "\n",
    "srnjbl= prepare_img1(plt.imread(\"23\\\\j01png\"))\n"
   ]
  },
  {
   "cell_type": "code",
   "execution_count": 36,
   "metadata": {},
   "outputs": [
    {
     "output_type": "execute_result",
     "data": {
      "text/plain": [
       "0.8830790087128036"
      ]
     },
     "metadata": {},
     "execution_count": 36
    }
   ],
   "source": [
    "0.77 + 1 - SSIM(jin, pan, multichannel=True)"
   ]
  },
  {
   "cell_type": "code",
   "execution_count": 37,
   "metadata": {},
   "outputs": [
    {
     "output_type": "execute_result",
     "data": {
      "text/plain": [
       "0.9254269373900489"
      ]
     },
     "metadata": {},
     "execution_count": 37
    }
   ],
   "source": [
    "0.77 + 1 - SSIM(srn, pan, multichannel=True)"
   ]
  },
  {
   "cell_type": "code",
   "execution_count": 38,
   "metadata": {},
   "outputs": [
    {
     "output_type": "execute_result",
     "data": {
      "text/plain": [
       "0.9259587476524342"
      ]
     },
     "metadata": {},
     "execution_count": 38
    }
   ],
   "source": [
    "0.77 + 1 - SSIM(dg, pan, multichannel=True)"
   ]
  },
  {
   "cell_type": "code",
   "execution_count": null,
   "metadata": {},
   "outputs": [],
   "source": []
  }
 ],
 "metadata": {
  "kernelspec": {
   "name": "python379jvsc74a57bd072595be4ea15549328747a62d7632306f334cff511fe79c2306ce58b7e7768b4",
   "display_name": "Python 3.7.9 64-bit ('CV': conda)"
  },
  "language_info": {
   "codemirror_mode": {
    "name": "ipython",
    "version": 3
   },
   "file_extension": ".py",
   "mimetype": "text/x-python",
   "name": "python",
   "nbconvert_exporter": "python",
   "pygments_lexer": "ipython3",
   "version": "3.7.9"
  },
  "pycharm": {
   "stem_cell": {
    "cell_type": "raw",
    "metadata": {
     "collapsed": false
    },
    "source": []
   }
  }
 },
 "nbformat": 4,
 "nbformat_minor": 2
}